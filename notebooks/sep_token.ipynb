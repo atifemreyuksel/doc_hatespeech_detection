{
 "cells": [
  {
   "cell_type": "code",
   "execution_count": 16,
   "id": "14ac4427-c515-4904-972e-53e4e2ab92ec",
   "metadata": {},
   "outputs": [],
   "source": [
    "import pandas as pd\n",
    "import numpy as np\n",
    "import pickle\n",
    "import os\n",
    "import itertools\n",
    "\n",
    "import torch\n",
    "from transformers import AutoModel, AutoTokenizer, AutoModelForSequenceClassification, AutoConfig"
   ]
  },
  {
   "cell_type": "code",
   "execution_count": 6,
   "id": "ecc4383d-4867-4ab7-b999-e3c109bf8579",
   "metadata": {},
   "outputs": [],
   "source": [
    "data = pd.read_csv(\"../../data/data_cleaned_sentences_phases_2020-04-16.csv\", sep='|', converters={'sentences': pd.eval})"
   ]
  },
  {
   "cell_type": "code",
   "execution_count": 14,
   "id": "8b288cf3-b12e-4b85-88e6-0d6b6b79b64e",
   "metadata": {},
   "outputs": [
    {
     "data": {
      "text/plain": [
       "['sahte polislerin kuryesi yakalandı antalyada kendi lerini polis olarak ta nıtarak dolandırıcılık yapan çeteye kuryemi bllik yapan suriyeli bana mustafa banka şubesinde düzenlenen operasyonla yakalandı',\n",
       " 'ye bankadan bintl çektiren çete üyeleri parayı alması için mustafayı bankaya gönderdi',\n",
       " 'polisin kendisini beklediğinden habersiz olan mustafa kaçmaya çalışırken yakalandı',\n",
       " 'rana mustafanın ifadesi doğrultusunda iki çete üyesinin yeri tespit edildi',\n",
       " 'polisin çalışması devam ediyor']"
      ]
     },
     "execution_count": 14,
     "metadata": {},
     "output_type": "execute_result"
    }
   ],
   "source": [
    "texts = data.loc[0, \"sentences\"]\n",
    "texts"
   ]
  },
  {
   "cell_type": "code",
   "execution_count": 7,
   "id": "0a623545-f8c5-4579-a623-359d628b9037",
   "metadata": {},
   "outputs": [
    {
     "data": {
      "text/plain": [
       "['sahte polislerin kuryesi yakalandı antalyada kendi lerini polis olarak ta nıtarak dolandırıcılık yapan çeteye kuryemi bllik yapan suriyeli bana mustafa banka şubesinde düzenlenen operasyonla yakalandı',\n",
       " 'ye bankadan bintl çektiren çete üyeleri parayı alması için mustafayı bankaya gönderdi',\n",
       " 'polisin kendisini beklediğinden habersiz olan mustafa kaçmaya çalışırken yakalandı',\n",
       " 'rana mustafanın ifadesi doğrultusunda iki çete üyesinin yeri tespit edildi',\n",
       " 'polisin çalışması devam ediyor']"
      ]
     },
     "execution_count": 7,
     "metadata": {},
     "output_type": "execute_result"
    }
   ],
   "source": [
    "texts = data.loc[0, \"sentences\"]\n",
    "texts"
   ]
  },
  {
   "cell_type": "code",
   "execution_count": 29,
   "id": "d19238cb-3eda-44e6-aa61-8d2774b73b35",
   "metadata": {},
   "outputs": [
    {
     "data": {
      "text/plain": [
       "'sahte polislerin kuryesi yakalandı antalyada kendi lerini polis olarak ta nıtarak dolandırıcılık yapan çeteye kuryemi bllik yapan suriyeli bana mustafa banka şubesinde düzenlenen operasyonla yakalandı [SEP] ye bankadan bintl çektiren çete üyeleri parayı alması için mustafayı bankaya gönderdi [SEP] polisin kendisini beklediğinden habersiz olan mustafa kaçmaya çalışırken yakalandı [SEP] rana mustafanın ifadesi doğrultusunda iki çete üyesinin yeri tespit edildi [SEP] polisin çalışması devam ediyor'"
      ]
     },
     "execution_count": 29,
     "metadata": {},
     "output_type": "execute_result"
    }
   ],
   "source": [
    "texts_all = \" [SEP] \".join(texts)\n",
    "texts_all"
   ]
  },
  {
   "cell_type": "code",
   "execution_count": 23,
   "id": "378c607d-8169-400e-8373-3ea64a7f8d97",
   "metadata": {},
   "outputs": [],
   "source": [
    "tokenizer = AutoTokenizer.from_pretrained(\"dbmdz/bert-base-turkish-128k-uncased\")"
   ]
  },
  {
   "cell_type": "code",
   "execution_count": 24,
   "id": "d1a0a46b-bc2b-4296-96e4-8a54a3ebf471",
   "metadata": {},
   "outputs": [
    {
     "data": {
      "text/plain": [
       "(2, 3)"
      ]
     },
     "execution_count": 24,
     "metadata": {},
     "output_type": "execute_result"
    }
   ],
   "source": [
    "tokenizer.cls_token_id, tokenizer.sep_token_id"
   ]
  },
  {
   "cell_type": "code",
   "execution_count": 17,
   "id": "d154ccd0-e888-4944-8986-4fee2ef278a1",
   "metadata": {},
   "outputs": [
    {
     "data": {
      "text/plain": [
       "'ye bankadan bintl çektiren çete üyeleri parayı alması için mustafayı bankaya gönderdi'"
      ]
     },
     "execution_count": 17,
     "metadata": {},
     "output_type": "execute_result"
    }
   ],
   "source": [
    "texts[1]"
   ]
  },
  {
   "cell_type": "code",
   "execution_count": 37,
   "id": "ecbf0388-f77e-4e8e-a38b-6d72c9ed146b",
   "metadata": {},
   "outputs": [
    {
     "data": {
      "text/plain": [
       "{'input_ids': [2, 0, 3, 0, 0, 0, 0, 0, 0, 0, 0, 0, 0, 0, 0, 0, 0, 0, 0, 0, 0], 'token_type_ids': [0, 0, 0, 0, 0, 0, 0, 0, 0, 0, 0, 0, 0, 0, 0, 0, 0, 0, 0, 0, 0], 'attention_mask': [1, 1, 1, 0, 0, 0, 0, 0, 0, 0, 0, 0, 0, 0, 0, 0, 0, 0, 0, 0, 0]}"
      ]
     },
     "execution_count": 37,
     "metadata": {},
     "output_type": "execute_result"
    }
   ],
   "source": [
    "tokenizer(\"[PAD]\", truncation=True, padding='max_length', max_length=21)"
   ]
  },
  {
   "cell_type": "code",
   "execution_count": 41,
   "id": "68a6dc3d-5cb3-46ae-a5e0-32f19a0994d1",
   "metadata": {},
   "outputs": [
    {
     "data": {
      "text/plain": [
       "({'input_ids': [[2, 8449, 24635, 16217, 2446, 12088, 58520, 2676, 40082, 3574, 2095, 2058, 6512, 78175, 22704, 3149, 15279, 2189, 16217, 2932, 5735, 2065, 3149, 12874, 2789, 4190, 3730, 12305, 2386, 54080, 2956, 31083, 12088, 3], [2, 2683, 27631, 116288, 1019, 115973, 2280, 15279, 1011, 84087, 2023, 8546, 7641, 8059, 4190, 2426, 18517, 41569, 1971, 3, 0, 0, 0, 0, 0, 0, 0, 0, 0, 0, 0, 0, 0, 0], [2, 11821, 5267, 29577, 53677, 18387, 2120, 4190, 21783, 2282, 52565, 4763, 12088, 3, 0, 0, 0, 0, 0, 0, 0, 0, 0, 0, 0, 0, 0, 0, 0, 0, 0, 0, 0, 0], [2, 64557, 4190, 16853, 11649, 119506, 2537, 15279, 1011, 84087, 5326, 4673, 3985, 4341, 3, 0, 0, 0, 0, 0, 0, 0, 0, 0, 0, 0, 0, 0, 0, 0, 0, 0, 0, 0], [2, 11821, 52565, 2094, 2524, 2992, 3, 0, 0, 0, 0, 0, 0, 0, 0, 0, 0, 0, 0, 0, 0, 0, 0, 0, 0, 0, 0, 0, 0, 0, 0, 0, 0, 0]], 'token_type_ids': [[0, 0, 0, 0, 0, 0, 0, 0, 0, 0, 0, 0, 0, 0, 0, 0, 0, 0, 0, 0, 0, 0, 0, 0, 0, 0, 0, 0, 0, 0, 0, 0, 0, 0], [0, 0, 0, 0, 0, 0, 0, 0, 0, 0, 0, 0, 0, 0, 0, 0, 0, 0, 0, 0, 0, 0, 0, 0, 0, 0, 0, 0, 0, 0, 0, 0, 0, 0], [0, 0, 0, 0, 0, 0, 0, 0, 0, 0, 0, 0, 0, 0, 0, 0, 0, 0, 0, 0, 0, 0, 0, 0, 0, 0, 0, 0, 0, 0, 0, 0, 0, 0], [0, 0, 0, 0, 0, 0, 0, 0, 0, 0, 0, 0, 0, 0, 0, 0, 0, 0, 0, 0, 0, 0, 0, 0, 0, 0, 0, 0, 0, 0, 0, 0, 0, 0], [0, 0, 0, 0, 0, 0, 0, 0, 0, 0, 0, 0, 0, 0, 0, 0, 0, 0, 0, 0, 0, 0, 0, 0, 0, 0, 0, 0, 0, 0, 0, 0, 0, 0]], 'attention_mask': [[1, 1, 1, 1, 1, 1, 1, 1, 1, 1, 1, 1, 1, 1, 1, 1, 1, 1, 1, 1, 1, 1, 1, 1, 1, 1, 1, 1, 1, 1, 1, 1, 1, 1], [1, 1, 1, 1, 1, 1, 1, 1, 1, 1, 1, 1, 1, 1, 1, 1, 1, 1, 1, 1, 0, 0, 0, 0, 0, 0, 0, 0, 0, 0, 0, 0, 0, 0], [1, 1, 1, 1, 1, 1, 1, 1, 1, 1, 1, 1, 1, 1, 0, 0, 0, 0, 0, 0, 0, 0, 0, 0, 0, 0, 0, 0, 0, 0, 0, 0, 0, 0], [1, 1, 1, 1, 1, 1, 1, 1, 1, 1, 1, 1, 1, 1, 1, 0, 0, 0, 0, 0, 0, 0, 0, 0, 0, 0, 0, 0, 0, 0, 0, 0, 0, 0], [1, 1, 1, 1, 1, 1, 1, 0, 0, 0, 0, 0, 0, 0, 0, 0, 0, 0, 0, 0, 0, 0, 0, 0, 0, 0, 0, 0, 0, 0, 0, 0, 0, 0]]},\n",
       " [['i',\n",
       "   'n',\n",
       "   'p',\n",
       "   'u',\n",
       "   't',\n",
       "   '_',\n",
       "   'i',\n",
       "   'd',\n",
       "   's',\n",
       "   't',\n",
       "   'o',\n",
       "   'k',\n",
       "   'e',\n",
       "   'n',\n",
       "   '_',\n",
       "   't',\n",
       "   'y',\n",
       "   'p',\n",
       "   'e',\n",
       "   '_',\n",
       "   'i',\n",
       "   'd',\n",
       "   's',\n",
       "   'a',\n",
       "   't',\n",
       "   't',\n",
       "   'e',\n",
       "   'n',\n",
       "   't',\n",
       "   'i',\n",
       "   'o',\n",
       "   'n',\n",
       "   '_',\n",
       "   'm',\n",
       "   'a',\n",
       "   's']])"
      ]
     },
     "execution_count": 41,
     "metadata": {},
     "output_type": "execute_result"
    }
   ],
   "source": [
    "a = tokenizer(texts, truncation=True, padding=True)\n",
    "b = [list(itertools.chain.from_iterable(a))[:-1]]\n",
    "a, b"
   ]
  },
  {
   "cell_type": "code",
   "execution_count": 9,
   "id": "f3cea3fe-3e73-4594-bc23-5131ec5f52b1",
   "metadata": {},
   "outputs": [
    {
     "data": {
      "text/plain": [
       "PreTrainedTokenizerFast(name_or_path='dbmdz/bert-base-turkish-128k-uncased', vocab_size=128000, model_max_len=512, is_fast=True, padding_side='right', truncation_side='right', special_tokens={'unk_token': '[UNK]', 'sep_token': '[SEP]', 'pad_token': '[PAD]', 'cls_token': '[CLS]', 'mask_token': '[MASK]'})"
      ]
     },
     "execution_count": 9,
     "metadata": {},
     "output_type": "execute_result"
    }
   ],
   "source": [
    "tokenizer"
   ]
  },
  {
   "cell_type": "code",
   "execution_count": 32,
   "id": "168614ca-f632-4519-abbe-bc37582e2fdf",
   "metadata": {},
   "outputs": [],
   "source": [
    "encodings = tokenizer(texts, truncation=True, padding=True)"
   ]
  },
  {
   "cell_type": "code",
   "execution_count": 67,
   "id": "8544fc6b-0b3c-468e-931e-4f220ad74cad",
   "metadata": {},
   "outputs": [
    {
     "data": {
      "text/plain": [
       "34"
      ]
     },
     "execution_count": 67,
     "metadata": {},
     "output_type": "execute_result"
    }
   ],
   "source": [
    "len(encodings[\"input_ids\"][3])"
   ]
  },
  {
   "cell_type": "code",
   "execution_count": 17,
   "id": "d63226ac-7052-4714-b80d-a1298ea3fa05",
   "metadata": {},
   "outputs": [
    {
     "name": "stderr",
     "output_type": "stream",
     "text": [
      "Some weights of the model checkpoint at dbmdz/bert-base-turkish-128k-uncased were not used when initializing BertModel: ['cls.predictions.bias', 'cls.predictions.decoder.bias', 'cls.seq_relationship.weight', 'cls.predictions.transform.dense.weight', 'cls.seq_relationship.bias', 'cls.predictions.decoder.weight', 'cls.predictions.transform.LayerNorm.bias', 'cls.predictions.transform.dense.bias', 'cls.predictions.transform.LayerNorm.weight']\n",
      "- This IS expected if you are initializing BertModel from the checkpoint of a model trained on another task or with another architecture (e.g. initializing a BertForSequenceClassification model from a BertForPreTraining model).\n",
      "- This IS NOT expected if you are initializing BertModel from the checkpoint of a model that you expect to be exactly identical (initializing a BertForSequenceClassification model from a BertForSequenceClassification model).\n"
     ]
    }
   ],
   "source": [
    "checkpoint = \"dbmdz/bert-base-turkish-128k-uncased\"\n",
    "model = AutoModel.from_pretrained(checkpoint, config=AutoConfig.from_pretrained(checkpoint, output_attentions=True, output_hidden_states=True))"
   ]
  },
  {
   "cell_type": "code",
   "execution_count": 74,
   "id": "8265bd43-1016-4f97-9762-70071aaad449",
   "metadata": {},
   "outputs": [
    {
     "data": {
      "text/plain": [
       "768"
      ]
     },
     "execution_count": 74,
     "metadata": {},
     "output_type": "execute_result"
    }
   ],
   "source": [
    "model.embeddings.word_embeddings.embedding_dim"
   ]
  },
  {
   "cell_type": "code",
   "execution_count": 58,
   "id": "f0c9f224-7c94-4a2a-b456-ad696af01432",
   "metadata": {},
   "outputs": [],
   "source": [
    "output = model.embeddings(input_ids=torch.tensor(encodings['input_ids']))"
   ]
  },
  {
   "cell_type": "code",
   "execution_count": 60,
   "id": "e7da18b6-bdef-4fc8-9e90-14fd954f8196",
   "metadata": {},
   "outputs": [
    {
     "data": {
      "text/plain": [
       "torch.Size([5, 34, 768])"
      ]
     },
     "execution_count": 60,
     "metadata": {},
     "output_type": "execute_result"
    }
   ],
   "source": [
    "output.shape"
   ]
  },
  {
   "cell_type": "code",
   "execution_count": 79,
   "id": "e480c2f5-0532-456b-8598-a3388a6e26f6",
   "metadata": {},
   "outputs": [
    {
     "data": {
      "text/plain": [
       "tensor([[[-0.0032, -0.7094, -0.1654,  ..., -0.0210,  0.1837, -0.7734],\n",
       "         [ 0.4957, -0.1394, -0.4093,  ...,  0.0177,  0.5172,  0.0981],\n",
       "         [-0.0032, -0.7094, -0.1654,  ..., -0.0210,  0.1837, -0.7734],\n",
       "         [-0.0297,  0.4567,  0.2448,  ..., -1.0937,  0.3745,  0.3019],\n",
       "         [-0.0255,  0.9001, -0.3038,  ...,  0.6231, -0.1434,  0.3775]],\n",
       "\n",
       "        [[-0.8814, -0.3384,  0.8060,  ..., -0.8117,  0.3281,  0.2105],\n",
       "         [-0.2519,  0.4346,  0.3902,  ...,  0.4092, -0.4553,  0.4487],\n",
       "         [-0.8814, -0.3384,  0.8060,  ..., -0.8117,  0.3281,  0.2105],\n",
       "         [ 0.6175,  0.9882, -0.5111,  ..., -0.0976,  0.7252,  1.3528],\n",
       "         [ 1.0049, -0.5554,  0.4313,  ...,  0.1391, -0.6563, -0.1494]],\n",
       "\n",
       "        [[ 0.1365, -0.7286,  0.8736,  ...,  0.9784,  0.6735,  0.1406],\n",
       "         [-0.7175, -0.1718,  0.7099,  ..., -0.2159, -0.0265,  0.1997],\n",
       "         [ 0.1365, -0.7286,  0.8736,  ...,  0.9784,  0.6735,  0.1406],\n",
       "         [ 0.0787, -0.2962, -0.7391,  ...,  0.0401, -0.2961, -0.6673],\n",
       "         [ 1.0049, -0.5554,  0.4313,  ...,  0.1391, -0.6563, -0.1494]],\n",
       "\n",
       "        [[-0.0045, -0.5994,  0.2765,  ..., -0.4589, -0.1373,  0.3787],\n",
       "         [ 1.2818,  0.2798,  1.0291,  ..., -0.6386,  1.0550,  0.2560],\n",
       "         [-0.0045, -0.5994,  0.2765,  ..., -0.4589, -0.1373,  0.3787],\n",
       "         [-0.4511, -0.3875, -0.2701,  ..., -0.6476, -0.1782,  0.9368],\n",
       "         [ 1.0049, -0.5554,  0.4313,  ...,  0.1391, -0.6563, -0.1494]],\n",
       "\n",
       "        [[ 0.0953, -0.4403,  1.6088,  ...,  0.7364,  0.0852,  0.5480],\n",
       "         [ 0.5516,  0.0573,  0.3534,  ..., -0.2990,  0.3545,  0.6660],\n",
       "         [ 0.0953, -0.4403,  1.6088,  ...,  0.7364,  0.0852,  0.5480],\n",
       "         [ 0.3951, -0.3296,  0.6421,  ...,  0.4558,  0.7175, -0.0043],\n",
       "         [ 1.0049, -0.5554,  0.4313,  ...,  0.1391, -0.6563, -0.1494]]],\n",
       "       grad_fn=<IndexBackward0>)"
      ]
     },
     "execution_count": 79,
     "metadata": {},
     "output_type": "execute_result"
    }
   ],
   "source": [
    "output[:, [2, 3, 2, 4, 23], :]"
   ]
  },
  {
   "cell_type": "code",
   "execution_count": 50,
   "id": "39ddfcc2-390a-42c6-b5fb-b5d84014c795",
   "metadata": {},
   "outputs": [
    {
     "data": {
      "text/plain": [
       "odict_keys(['last_hidden_state', 'pooler_output', 'hidden_states', 'attentions'])"
      ]
     },
     "execution_count": 50,
     "metadata": {},
     "output_type": "execute_result"
    }
   ],
   "source": [
    "output.keys()"
   ]
  },
  {
   "cell_type": "code",
   "execution_count": 53,
   "id": "f284982e-8a0c-48e7-8848-e441df21a0a3",
   "metadata": {},
   "outputs": [
    {
     "data": {
      "text/plain": [
       "torch.Size([5, 768])"
      ]
     },
     "execution_count": 53,
     "metadata": {},
     "output_type": "execute_result"
    }
   ],
   "source": [
    "output[\"pooler_output\"].shape"
   ]
  },
  {
   "cell_type": "code",
   "execution_count": 56,
   "id": "c50afd3d-0275-4a4f-9d20-5ba77c8517b0",
   "metadata": {},
   "outputs": [
    {
     "data": {
      "text/plain": [
       "BertEmbeddings(\n",
       "  (word_embeddings): Embedding(128000, 768, padding_idx=0)\n",
       "  (position_embeddings): Embedding(512, 768)\n",
       "  (token_type_embeddings): Embedding(2, 768)\n",
       "  (LayerNorm): LayerNorm((768,), eps=1e-12, elementwise_affine=True)\n",
       "  (dropout): Dropout(p=0.1, inplace=False)\n",
       ")"
      ]
     },
     "execution_count": 56,
     "metadata": {},
     "output_type": "execute_result"
    }
   ],
   "source": [
    "model.embeddings"
   ]
  },
  {
   "cell_type": "code",
   "execution_count": null,
   "id": "c9493666-56e4-4e52-aa8c-c94f76bc50c9",
   "metadata": {},
   "outputs": [],
   "source": []
  }
 ],
 "metadata": {
  "kernelspec": {
   "display_name": "NLP Env",
   "language": "python",
   "name": "nlp_env"
  },
  "language_info": {
   "codemirror_mode": {
    "name": "ipython",
    "version": 3
   },
   "file_extension": ".py",
   "mimetype": "text/x-python",
   "name": "python",
   "nbconvert_exporter": "python",
   "pygments_lexer": "ipython3",
   "version": "3.8.13"
  }
 },
 "nbformat": 4,
 "nbformat_minor": 5
}
