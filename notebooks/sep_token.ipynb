{
 "cells": [
  {
   "cell_type": "code",
   "execution_count": 40,
   "id": "14ac4427-c515-4904-972e-53e4e2ab92ec",
   "metadata": {},
   "outputs": [],
   "source": [
    "import pandas as pd\n",
    "import numpy as np\n",
    "import pickle\n",
    "import os\n",
    "import itertools\n",
    "\n",
    "import torch\n",
    "from transformers import AutoModel, AutoTokenizer, AutoModelForSequenceClassification"
   ]
  },
  {
   "cell_type": "code",
   "execution_count": 4,
   "id": "ecc4383d-4867-4ab7-b999-e3c109bf8579",
   "metadata": {},
   "outputs": [],
   "source": [
    "data = pd.read_csv(\"../../data/data_cleaned_sentences_phases_2020-04-16.csv\", sep='|', converters={'sentences': pd.eval})"
   ]
  },
  {
   "cell_type": "code",
   "execution_count": 5,
   "id": "8b288cf3-b12e-4b85-88e6-0d6b6b79b64e",
   "metadata": {},
   "outputs": [
    {
     "data": {
      "text/plain": [
       "['sahte polislerin kuryesi yakalandı antalyada kendi lerini polis olarak ta nıtarak dolandırıcılık yapan çeteye kuryemi bllik yapan suriyeli bana mustafa banka şubesinde düzenlenen operasyonla yakalandı',\n",
       " 'ye bankadan bintl çektiren çete üyeleri parayı alması için mustafayı bankaya gönderdi',\n",
       " 'polisin kendisini beklediğinden habersiz olan mustafa kaçmaya çalışırken yakalandı',\n",
       " 'rana mustafanın ifadesi doğrultusunda iki çete üyesinin yeri tespit edildi',\n",
       " 'polisin çalışması devam ediyor']"
      ]
     },
     "execution_count": 5,
     "metadata": {},
     "output_type": "execute_result"
    }
   ],
   "source": [
    "texts = data.loc[0, \"sentences\"]\n",
    "texts"
   ]
  },
  {
   "cell_type": "code",
   "execution_count": 7,
   "id": "0a623545-f8c5-4579-a623-359d628b9037",
   "metadata": {},
   "outputs": [
    {
     "data": {
      "text/plain": [
       "['sahte polislerin kuryesi yakalandı antalyada kendi lerini polis olarak ta nıtarak dolandırıcılık yapan çeteye kuryemi bllik yapan suriyeli bana mustafa banka şubesinde düzenlenen operasyonla yakalandı',\n",
       " 'ye bankadan bintl çektiren çete üyeleri parayı alması için mustafayı bankaya gönderdi',\n",
       " 'polisin kendisini beklediğinden habersiz olan mustafa kaçmaya çalışırken yakalandı',\n",
       " 'rana mustafanın ifadesi doğrultusunda iki çete üyesinin yeri tespit edildi',\n",
       " 'polisin çalışması devam ediyor']"
      ]
     },
     "execution_count": 7,
     "metadata": {},
     "output_type": "execute_result"
    }
   ],
   "source": [
    "texts = data.loc[0, \"sentences\"]\n",
    "texts"
   ]
  },
  {
   "cell_type": "code",
   "execution_count": 12,
   "id": "d19238cb-3eda-44e6-aa61-8d2774b73b35",
   "metadata": {},
   "outputs": [
    {
     "data": {
      "text/plain": [
       "'sahte polislerin kuryesi yakalandı antalyada kendi lerini polis olarak ta nıtarak dolandırıcılık yapan çeteye kuryemi bllik yapan suriyeli bana mustafa banka şubesinde düzenlenen operasyonla yakalandı [SEP] ye bankadan bintl çektiren çete üyeleri parayı alması için mustafayı bankaya gönderdi [SEP] polisin kendisini beklediğinden habersiz olan mustafa kaçmaya çalışırken yakalandı [SEP] rana mustafanın ifadesi doğrultusunda iki çete üyesinin yeri tespit edildi [SEP] polisin çalışması devam ediyor'"
      ]
     },
     "execution_count": 12,
     "metadata": {},
     "output_type": "execute_result"
    }
   ],
   "source": [
    "texts_all = \" [SEP] \".join(texts)\n",
    "texts_all"
   ]
  },
  {
   "cell_type": "code",
   "execution_count": 7,
   "id": "378c607d-8169-400e-8373-3ea64a7f8d97",
   "metadata": {},
   "outputs": [
    {
     "name": "stderr",
     "output_type": "stream",
     "text": [
      "Downloading: 100%|██████████| 59.0/59.0 [00:00<00:00, 111kB/s]\n",
      "Downloading: 100%|██████████| 386/386 [00:00<00:00, 847kB/s]\n",
      "Downloading: 100%|██████████| 1.18M/1.18M [00:00<00:00, 1.39MB/s]\n"
     ]
    }
   ],
   "source": [
    "tokenizer = AutoTokenizer.from_pretrained(\"dbmdz/bert-base-turkish-128k-uncased\")"
   ]
  },
  {
   "cell_type": "code",
   "execution_count": 24,
   "id": "d1a0a46b-bc2b-4296-96e4-8a54a3ebf471",
   "metadata": {},
   "outputs": [
    {
     "data": {
      "text/plain": [
       "(2, 3)"
      ]
     },
     "execution_count": 24,
     "metadata": {},
     "output_type": "execute_result"
    }
   ],
   "source": [
    "tokenizer.cls_token_id, tokenizer.sep_token_id"
   ]
  },
  {
   "cell_type": "code",
   "execution_count": 17,
   "id": "d154ccd0-e888-4944-8986-4fee2ef278a1",
   "metadata": {},
   "outputs": [
    {
     "data": {
      "text/plain": [
       "'ye bankadan bintl çektiren çete üyeleri parayı alması için mustafayı bankaya gönderdi'"
      ]
     },
     "execution_count": 17,
     "metadata": {},
     "output_type": "execute_result"
    }
   ],
   "source": [
    "texts[1]"
   ]
  },
  {
   "cell_type": "code",
   "execution_count": 37,
   "id": "ecbf0388-f77e-4e8e-a38b-6d72c9ed146b",
   "metadata": {},
   "outputs": [
    {
     "data": {
      "text/plain": [
       "{'input_ids': [2, 0, 3, 0, 0, 0, 0, 0, 0, 0, 0, 0, 0, 0, 0, 0, 0, 0, 0, 0, 0], 'token_type_ids': [0, 0, 0, 0, 0, 0, 0, 0, 0, 0, 0, 0, 0, 0, 0, 0, 0, 0, 0, 0, 0], 'attention_mask': [1, 1, 1, 0, 0, 0, 0, 0, 0, 0, 0, 0, 0, 0, 0, 0, 0, 0, 0, 0, 0]}"
      ]
     },
     "execution_count": 37,
     "metadata": {},
     "output_type": "execute_result"
    }
   ],
   "source": [
    "tokenizer(\"[PAD]\", truncation=True, padding='max_length', max_length=21)"
   ]
  },
  {
   "cell_type": "code",
   "execution_count": 41,
   "id": "68a6dc3d-5cb3-46ae-a5e0-32f19a0994d1",
   "metadata": {},
   "outputs": [
    {
     "data": {
      "text/plain": [
       "({'input_ids': [[2, 8449, 24635, 16217, 2446, 12088, 58520, 2676, 40082, 3574, 2095, 2058, 6512, 78175, 22704, 3149, 15279, 2189, 16217, 2932, 5735, 2065, 3149, 12874, 2789, 4190, 3730, 12305, 2386, 54080, 2956, 31083, 12088, 3], [2, 2683, 27631, 116288, 1019, 115973, 2280, 15279, 1011, 84087, 2023, 8546, 7641, 8059, 4190, 2426, 18517, 41569, 1971, 3, 0, 0, 0, 0, 0, 0, 0, 0, 0, 0, 0, 0, 0, 0], [2, 11821, 5267, 29577, 53677, 18387, 2120, 4190, 21783, 2282, 52565, 4763, 12088, 3, 0, 0, 0, 0, 0, 0, 0, 0, 0, 0, 0, 0, 0, 0, 0, 0, 0, 0, 0, 0], [2, 64557, 4190, 16853, 11649, 119506, 2537, 15279, 1011, 84087, 5326, 4673, 3985, 4341, 3, 0, 0, 0, 0, 0, 0, 0, 0, 0, 0, 0, 0, 0, 0, 0, 0, 0, 0, 0], [2, 11821, 52565, 2094, 2524, 2992, 3, 0, 0, 0, 0, 0, 0, 0, 0, 0, 0, 0, 0, 0, 0, 0, 0, 0, 0, 0, 0, 0, 0, 0, 0, 0, 0, 0]], 'token_type_ids': [[0, 0, 0, 0, 0, 0, 0, 0, 0, 0, 0, 0, 0, 0, 0, 0, 0, 0, 0, 0, 0, 0, 0, 0, 0, 0, 0, 0, 0, 0, 0, 0, 0, 0], [0, 0, 0, 0, 0, 0, 0, 0, 0, 0, 0, 0, 0, 0, 0, 0, 0, 0, 0, 0, 0, 0, 0, 0, 0, 0, 0, 0, 0, 0, 0, 0, 0, 0], [0, 0, 0, 0, 0, 0, 0, 0, 0, 0, 0, 0, 0, 0, 0, 0, 0, 0, 0, 0, 0, 0, 0, 0, 0, 0, 0, 0, 0, 0, 0, 0, 0, 0], [0, 0, 0, 0, 0, 0, 0, 0, 0, 0, 0, 0, 0, 0, 0, 0, 0, 0, 0, 0, 0, 0, 0, 0, 0, 0, 0, 0, 0, 0, 0, 0, 0, 0], [0, 0, 0, 0, 0, 0, 0, 0, 0, 0, 0, 0, 0, 0, 0, 0, 0, 0, 0, 0, 0, 0, 0, 0, 0, 0, 0, 0, 0, 0, 0, 0, 0, 0]], 'attention_mask': [[1, 1, 1, 1, 1, 1, 1, 1, 1, 1, 1, 1, 1, 1, 1, 1, 1, 1, 1, 1, 1, 1, 1, 1, 1, 1, 1, 1, 1, 1, 1, 1, 1, 1], [1, 1, 1, 1, 1, 1, 1, 1, 1, 1, 1, 1, 1, 1, 1, 1, 1, 1, 1, 1, 0, 0, 0, 0, 0, 0, 0, 0, 0, 0, 0, 0, 0, 0], [1, 1, 1, 1, 1, 1, 1, 1, 1, 1, 1, 1, 1, 1, 0, 0, 0, 0, 0, 0, 0, 0, 0, 0, 0, 0, 0, 0, 0, 0, 0, 0, 0, 0], [1, 1, 1, 1, 1, 1, 1, 1, 1, 1, 1, 1, 1, 1, 1, 0, 0, 0, 0, 0, 0, 0, 0, 0, 0, 0, 0, 0, 0, 0, 0, 0, 0, 0], [1, 1, 1, 1, 1, 1, 1, 0, 0, 0, 0, 0, 0, 0, 0, 0, 0, 0, 0, 0, 0, 0, 0, 0, 0, 0, 0, 0, 0, 0, 0, 0, 0, 0]]},\n",
       " [['i',\n",
       "   'n',\n",
       "   'p',\n",
       "   'u',\n",
       "   't',\n",
       "   '_',\n",
       "   'i',\n",
       "   'd',\n",
       "   's',\n",
       "   't',\n",
       "   'o',\n",
       "   'k',\n",
       "   'e',\n",
       "   'n',\n",
       "   '_',\n",
       "   't',\n",
       "   'y',\n",
       "   'p',\n",
       "   'e',\n",
       "   '_',\n",
       "   'i',\n",
       "   'd',\n",
       "   's',\n",
       "   'a',\n",
       "   't',\n",
       "   't',\n",
       "   'e',\n",
       "   'n',\n",
       "   't',\n",
       "   'i',\n",
       "   'o',\n",
       "   'n',\n",
       "   '_',\n",
       "   'm',\n",
       "   'a',\n",
       "   's']])"
      ]
     },
     "execution_count": 41,
     "metadata": {},
     "output_type": "execute_result"
    }
   ],
   "source": [
    "a = tokenizer(texts, truncation=True, padding=True)\n",
    "b = [list(itertools.chain.from_iterable(a))[:-1]]\n",
    "a, b"
   ]
  },
  {
   "cell_type": "code",
   "execution_count": 9,
   "id": "f3cea3fe-3e73-4594-bc23-5131ec5f52b1",
   "metadata": {},
   "outputs": [
    {
     "data": {
      "text/plain": [
       "PreTrainedTokenizerFast(name_or_path='dbmdz/bert-base-turkish-128k-uncased', vocab_size=128000, model_max_len=512, is_fast=True, padding_side='right', truncation_side='right', special_tokens={'unk_token': '[UNK]', 'sep_token': '[SEP]', 'pad_token': '[PAD]', 'cls_token': '[CLS]', 'mask_token': '[MASK]'})"
      ]
     },
     "execution_count": 9,
     "metadata": {},
     "output_type": "execute_result"
    }
   ],
   "source": [
    "tokenizer"
   ]
  },
  {
   "cell_type": "code",
   "execution_count": null,
   "id": "d63226ac-7052-4714-b80d-a1298ea3fa05",
   "metadata": {},
   "outputs": [],
   "source": []
  }
 ],
 "metadata": {
  "kernelspec": {
   "display_name": "NLP Env",
   "language": "python",
   "name": "nlp_env"
  },
  "language_info": {
   "codemirror_mode": {
    "name": "ipython",
    "version": 3
   },
   "file_extension": ".py",
   "mimetype": "text/x-python",
   "name": "python",
   "nbconvert_exporter": "python",
   "pygments_lexer": "ipython3",
   "version": "3.8.13"
  }
 },
 "nbformat": 4,
 "nbformat_minor": 5
}
