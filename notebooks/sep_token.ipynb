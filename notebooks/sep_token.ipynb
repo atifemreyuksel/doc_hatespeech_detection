{
 "cells": [
  {
   "cell_type": "code",
   "execution_count": 4,
   "id": "14ac4427-c515-4904-972e-53e4e2ab92ec",
   "metadata": {},
   "outputs": [],
   "source": [
    "import pandas as pd\n",
    "import numpy as np\n",
    "import pickle\n",
    "import os\n",
    "\n",
    "import torch\n",
    "from transformers import AutoModel, AutoTokenizer, AutoModelForSequenceClassification"
   ]
  },
  {
   "cell_type": "code",
   "execution_count": 3,
   "id": "ecc4383d-4867-4ab7-b999-e3c109bf8579",
   "metadata": {},
   "outputs": [],
   "source": [
    "data = pd.read_csv(\"../data/data_cleaned_sentences_phases_2020-04-16.csv\", sep='|', converters={'sentences': pd.eval})"
   ]
  },
  {
   "cell_type": "code",
   "execution_count": 7,
   "id": "0a623545-f8c5-4579-a623-359d628b9037",
   "metadata": {},
   "outputs": [
    {
     "data": {
      "text/plain": [
       "['sahte polislerin kuryesi yakalandı antalyada kendi lerini polis olarak ta nıtarak dolandırıcılık yapan çeteye kuryemi bllik yapan suriyeli bana mustafa banka şubesinde düzenlenen operasyonla yakalandı',\n",
       " 'ye bankadan bintl çektiren çete üyeleri parayı alması için mustafayı bankaya gönderdi',\n",
       " 'polisin kendisini beklediğinden habersiz olan mustafa kaçmaya çalışırken yakalandı',\n",
       " 'rana mustafanın ifadesi doğrultusunda iki çete üyesinin yeri tespit edildi',\n",
       " 'polisin çalışması devam ediyor']"
      ]
     },
     "execution_count": 7,
     "metadata": {},
     "output_type": "execute_result"
    }
   ],
   "source": [
    "texts = data.loc[0, \"sentences\"]\n",
    "texts"
   ]
  },
  {
   "cell_type": "code",
   "execution_count": 19,
   "id": "d19238cb-3eda-44e6-aa61-8d2774b73b35",
   "metadata": {},
   "outputs": [
    {
     "data": {
      "text/plain": [
       "'sahte polislerin kuryesi yakalandı antalyada kendi lerini polis olarak ta nıtarak dolandırıcılık yapan çeteye kuryemi bllik yapan suriyeli bana mustafa banka şubesinde düzenlenen operasyonla yakalandı [SEP] ye bankadan bintl çektiren çete üyeleri parayı alması için mustafayı bankaya gönderdi [SEP] polisin kendisini beklediğinden habersiz olan mustafa kaçmaya çalışırken yakalandı [SEP] rana mustafanın ifadesi doğrultusunda iki çete üyesinin yeri tespit edildi [SEP] polisin çalışması devam ediyor'"
      ]
     },
     "execution_count": 19,
     "metadata": {},
     "output_type": "execute_result"
    }
   ],
   "source": [
    "texts_all = \" [SEP] \".join(texts)\n",
    "texts_all"
   ]
  },
  {
   "cell_type": "code",
   "execution_count": 5,
   "id": "378c607d-8169-400e-8373-3ea64a7f8d97",
   "metadata": {},
   "outputs": [],
   "source": [
    "tokenizer = AutoTokenizer.from_pretrained(\"dbmdz/bert-base-turkish-128k-uncased\")"
   ]
  },
  {
   "cell_type": "code",
   "execution_count": 12,
   "id": "d154ccd0-e888-4944-8986-4fee2ef278a1",
   "metadata": {},
   "outputs": [
    {
     "data": {
      "text/plain": [
       "PreTrainedTokenizerFast(name_or_path='dbmdz/bert-base-turkish-128k-uncased', vocab_size=128000, model_max_len=512, is_fast=True, padding_side='right', truncation_side='right', special_tokens={'unk_token': '[UNK]', 'sep_token': '[SEP]', 'pad_token': '[PAD]', 'cls_token': '[CLS]', 'mask_token': '[MASK]'})"
      ]
     },
     "execution_count": 12,
     "metadata": {},
     "output_type": "execute_result"
    }
   ],
   "source": [
    "tokenizer"
   ]
  },
  {
   "cell_type": "code",
   "execution_count": 21,
   "id": "ecbf0388-f77e-4e8e-a38b-6d72c9ed146b",
   "metadata": {},
   "outputs": [
    {
     "data": {
      "text/plain": [
       "{'input_ids': [[2, 8449, 24635, 16217, 2446, 12088, 58520, 2676, 40082, 3574, 2095, 2058, 6512, 78175, 22704, 3149, 15279, 2189, 16217, 2932, 5735, 2065, 3149, 12874, 2789, 4190, 3730, 12305, 2386, 54080, 2956, 31083, 12088, 3, 2683, 27631, 116288, 1019, 115973, 2280, 15279, 1011, 84087, 2023, 8546, 7641, 8059, 4190, 2426, 18517, 41569, 1971, 3, 11821, 5267, 29577, 53677, 18387, 2120, 4190, 21783, 2282, 52565, 4763, 12088, 3, 64557, 4190, 16853, 11649, 119506, 2537, 15279, 1011, 84087, 5326, 4673, 3985, 4341, 3, 11821, 52565, 2094, 2524, 2992, 3]], 'token_type_ids': [[0, 0, 0, 0, 0, 0, 0, 0, 0, 0, 0, 0, 0, 0, 0, 0, 0, 0, 0, 0, 0, 0, 0, 0, 0, 0, 0, 0, 0, 0, 0, 0, 0, 0, 0, 0, 0, 0, 0, 0, 0, 0, 0, 0, 0, 0, 0, 0, 0, 0, 0, 0, 0, 0, 0, 0, 0, 0, 0, 0, 0, 0, 0, 0, 0, 0, 0, 0, 0, 0, 0, 0, 0, 0, 0, 0, 0, 0, 0, 0, 0, 0, 0, 0, 0, 0]], 'attention_mask': [[1, 1, 1, 1, 1, 1, 1, 1, 1, 1, 1, 1, 1, 1, 1, 1, 1, 1, 1, 1, 1, 1, 1, 1, 1, 1, 1, 1, 1, 1, 1, 1, 1, 1, 1, 1, 1, 1, 1, 1, 1, 1, 1, 1, 1, 1, 1, 1, 1, 1, 1, 1, 1, 1, 1, 1, 1, 1, 1, 1, 1, 1, 1, 1, 1, 1, 1, 1, 1, 1, 1, 1, 1, 1, 1, 1, 1, 1, 1, 1, 1, 1, 1, 1, 1, 1]]}"
      ]
     },
     "execution_count": 21,
     "metadata": {},
     "output_type": "execute_result"
    }
   ],
   "source": [
    "tokenizer([texts_all], truncation=True, padding=True, max_length=100*10)"
   ]
  },
  {
   "cell_type": "code",
   "execution_count": 10,
   "id": "68a6dc3d-5cb3-46ae-a5e0-32f19a0994d1",
   "metadata": {},
   "outputs": [
    {
     "data": {
      "text/plain": [
       "[[2,\n",
       "  8449,\n",
       "  24635,\n",
       "  16217,\n",
       "  2446,\n",
       "  12088,\n",
       "  58520,\n",
       "  2676,\n",
       "  40082,\n",
       "  3574,\n",
       "  2095,\n",
       "  2058,\n",
       "  6512,\n",
       "  78175,\n",
       "  22704,\n",
       "  3149,\n",
       "  15279,\n",
       "  2189,\n",
       "  16217,\n",
       "  2932,\n",
       "  5735,\n",
       "  2065,\n",
       "  3149,\n",
       "  12874,\n",
       "  2789,\n",
       "  4190,\n",
       "  3730,\n",
       "  12305,\n",
       "  2386,\n",
       "  54080,\n",
       "  2956,\n",
       "  31083,\n",
       "  12088,\n",
       "  3],\n",
       " [2,\n",
       "  2683,\n",
       "  27631,\n",
       "  116288,\n",
       "  1019,\n",
       "  115973,\n",
       "  2280,\n",
       "  15279,\n",
       "  1011,\n",
       "  84087,\n",
       "  2023,\n",
       "  8546,\n",
       "  7641,\n",
       "  8059,\n",
       "  4190,\n",
       "  2426,\n",
       "  18517,\n",
       "  41569,\n",
       "  1971,\n",
       "  3,\n",
       "  0,\n",
       "  0,\n",
       "  0,\n",
       "  0,\n",
       "  0,\n",
       "  0,\n",
       "  0,\n",
       "  0,\n",
       "  0,\n",
       "  0,\n",
       "  0,\n",
       "  0,\n",
       "  0,\n",
       "  0],\n",
       " [2,\n",
       "  11821,\n",
       "  5267,\n",
       "  29577,\n",
       "  53677,\n",
       "  18387,\n",
       "  2120,\n",
       "  4190,\n",
       "  21783,\n",
       "  2282,\n",
       "  52565,\n",
       "  4763,\n",
       "  12088,\n",
       "  3,\n",
       "  0,\n",
       "  0,\n",
       "  0,\n",
       "  0,\n",
       "  0,\n",
       "  0,\n",
       "  0,\n",
       "  0,\n",
       "  0,\n",
       "  0,\n",
       "  0,\n",
       "  0,\n",
       "  0,\n",
       "  0,\n",
       "  0,\n",
       "  0,\n",
       "  0,\n",
       "  0,\n",
       "  0,\n",
       "  0],\n",
       " [2,\n",
       "  64557,\n",
       "  4190,\n",
       "  16853,\n",
       "  11649,\n",
       "  119506,\n",
       "  2537,\n",
       "  15279,\n",
       "  1011,\n",
       "  84087,\n",
       "  5326,\n",
       "  4673,\n",
       "  3985,\n",
       "  4341,\n",
       "  3,\n",
       "  0,\n",
       "  0,\n",
       "  0,\n",
       "  0,\n",
       "  0,\n",
       "  0,\n",
       "  0,\n",
       "  0,\n",
       "  0,\n",
       "  0,\n",
       "  0,\n",
       "  0,\n",
       "  0,\n",
       "  0,\n",
       "  0,\n",
       "  0,\n",
       "  0,\n",
       "  0,\n",
       "  0],\n",
       " [2,\n",
       "  11821,\n",
       "  52565,\n",
       "  2094,\n",
       "  2524,\n",
       "  2992,\n",
       "  3,\n",
       "  0,\n",
       "  0,\n",
       "  0,\n",
       "  0,\n",
       "  0,\n",
       "  0,\n",
       "  0,\n",
       "  0,\n",
       "  0,\n",
       "  0,\n",
       "  0,\n",
       "  0,\n",
       "  0,\n",
       "  0,\n",
       "  0,\n",
       "  0,\n",
       "  0,\n",
       "  0,\n",
       "  0,\n",
       "  0,\n",
       "  0,\n",
       "  0,\n",
       "  0,\n",
       "  0,\n",
       "  0,\n",
       "  0,\n",
       "  0]]"
      ]
     },
     "execution_count": 10,
     "metadata": {},
     "output_type": "execute_result"
    }
   ],
   "source": [
    "tokenizer(texts, truncation=True, padding=True)[\"input_ids\"]"
   ]
  },
  {
   "cell_type": "code",
   "execution_count": 9,
   "id": "f3cea3fe-3e73-4594-bc23-5131ec5f52b1",
   "metadata": {},
   "outputs": [
    {
     "data": {
      "text/plain": [
       "PreTrainedTokenizerFast(name_or_path='dbmdz/bert-base-turkish-128k-uncased', vocab_size=128000, model_max_len=512, is_fast=True, padding_side='right', truncation_side='right', special_tokens={'unk_token': '[UNK]', 'sep_token': '[SEP]', 'pad_token': '[PAD]', 'cls_token': '[CLS]', 'mask_token': '[MASK]'})"
      ]
     },
     "execution_count": 9,
     "metadata": {},
     "output_type": "execute_result"
    }
   ],
   "source": [
    "tokenizer"
   ]
  },
  {
   "cell_type": "code",
   "execution_count": null,
   "id": "d63226ac-7052-4714-b80d-a1298ea3fa05",
   "metadata": {},
   "outputs": [],
   "source": []
  }
 ],
 "metadata": {
  "kernelspec": {
   "display_name": "Hate env",
   "language": "python",
   "name": "hate_env"
  },
  "language_info": {
   "codemirror_mode": {
    "name": "ipython",
    "version": 3
   },
   "file_extension": ".py",
   "mimetype": "text/x-python",
   "name": "python",
   "nbconvert_exporter": "python",
   "pygments_lexer": "ipython3",
   "version": "3.7.11"
  }
 },
 "nbformat": 4,
 "nbformat_minor": 5
}
