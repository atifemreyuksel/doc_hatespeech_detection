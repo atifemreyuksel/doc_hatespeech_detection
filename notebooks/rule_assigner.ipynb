{
 "cells": [
  {
   "cell_type": "code",
   "execution_count": 1,
   "id": "c1b69cf4-84f3-4316-a7a4-585eecadc589",
   "metadata": {},
   "outputs": [],
   "source": [
    "import re\n",
    "import json\n",
    "import pandas as pd"
   ]
  },
  {
   "cell_type": "code",
   "execution_count": 2,
   "id": "aa52c67a-2266-4742-921a-5a85308aee11",
   "metadata": {},
   "outputs": [],
   "source": [
    "data = pd.read_csv(\"../../data/data_cleaned_sentences_phases_2020-04-16.csv\", sep='|', converters={'sentences': pd.eval})"
   ]
  },
  {
   "cell_type": "code",
   "execution_count": 3,
   "id": "732769b3-0112-4e2a-af86-879e8a80638c",
   "metadata": {},
   "outputs": [],
   "source": [
    "data[\"title\"] = data[\"title\"].apply(lambda title: title if isinstance(title, str) else \"\") \n",
    "data[\"text\"] = data.apply(lambda row: \" \".join([sent for sent in [row[\"title\"]] + row[\"sentences\"]]), axis=1)"
   ]
  },
  {
   "cell_type": "code",
   "execution_count": 236,
   "id": "3ab49a19-7718-45b6-976a-28657f0b3893",
   "metadata": {},
   "outputs": [
    {
     "data": {
      "text/html": [
       "<div>\n",
       "<style scoped>\n",
       "    .dataframe tbody tr th:only-of-type {\n",
       "        vertical-align: middle;\n",
       "    }\n",
       "\n",
       "    .dataframe tbody tr th {\n",
       "        vertical-align: top;\n",
       "    }\n",
       "\n",
       "    .dataframe thead th {\n",
       "        text-align: right;\n",
       "    }\n",
       "</style>\n",
       "<table border=\"1\" class=\"dataframe\">\n",
       "  <thead>\n",
       "    <tr style=\"text-align: right;\">\n",
       "      <th></th>\n",
       "      <th>id</th>\n",
       "      <th>date</th>\n",
       "      <th>pub_name</th>\n",
       "      <th>type</th>\n",
       "      <th>title</th>\n",
       "      <th>content</th>\n",
       "      <th>Label</th>\n",
       "      <th>sentences</th>\n",
       "      <th>text</th>\n",
       "      <th>phase</th>\n",
       "    </tr>\n",
       "  </thead>\n",
       "  <tbody>\n",
       "    <tr>\n",
       "      <th>16954</th>\n",
       "      <td>17002</td>\n",
       "      <td>04 Ocak 2017 Çarşamba</td>\n",
       "      <td>dünya</td>\n",
       "      <td>Ulusal</td>\n",
       "      <td>muhalifler astana müzakerelerini boykot etme k...</td>\n",
       "      <td>hassas ateşkesin sonu gelebilir muhalifler ast...</td>\n",
       "      <td>not_hate</td>\n",
       "      <td>[hassas ateşkesin sonu gelebilir muhalifler as...</td>\n",
       "      <td>muhalifler astana müzakerelerini boykot etme k...</td>\n",
       "      <td>train</td>\n",
       "    </tr>\n",
       "    <tr>\n",
       "      <th>23393</th>\n",
       "      <td>23443</td>\n",
       "      <td>17 Temmuz 2019 Çarşamba</td>\n",
       "      <td>ilkses gazetesi</td>\n",
       "      <td>yerel</td>\n",
       "      <td>cezaevindeki çocuklara bez bebek arkadaşlar</td>\n",
       "      <td>cezaevindeki çocuklara bez bebek arkadaşlar iz...</td>\n",
       "      <td>not_hate</td>\n",
       "      <td>[cezaevindeki çocuklara bez bebek arkadaşlar i...</td>\n",
       "      <td>cezaevindeki çocuklara bez bebek arkadaşlar ce...</td>\n",
       "      <td>train</td>\n",
       "    </tr>\n",
       "    <tr>\n",
       "      <th>22990</th>\n",
       "      <td>23040</td>\n",
       "      <td>30 Mayıs 2019 Perşembe</td>\n",
       "      <td>trakya demokrat gazetesi</td>\n",
       "      <td>yerel</td>\n",
       "      <td>şehadet kelim esi</td>\n",
       "      <td>yazılarım akif can islamın ilk güzergahı ve an...</td>\n",
       "      <td>not_hate</td>\n",
       "      <td>[yazılarım akif can islamın ilk güzergahı ve a...</td>\n",
       "      <td>şehadet kelim esi yazılarım akif can islamın i...</td>\n",
       "      <td>test</td>\n",
       "    </tr>\n",
       "    <tr>\n",
       "      <th>9423</th>\n",
       "      <td>9464</td>\n",
       "      <td>02 Temmuz 2019 Salı</td>\n",
       "      <td>denge samsun</td>\n",
       "      <td>yerel</td>\n",
       "      <td>bilek güreşi</td>\n",
       "      <td>dursen ozalemdar tefekkür bilek güreşi ülkemiz...</td>\n",
       "      <td>hate</td>\n",
       "      <td>[dursen ozalemdar tefekkür bilek güreşi ülkemi...</td>\n",
       "      <td>bilek güreşi dursen ozalemdar tefekkür bilek g...</td>\n",
       "      <td>train</td>\n",
       "    </tr>\n",
       "    <tr>\n",
       "      <th>15167</th>\n",
       "      <td>15215</td>\n",
       "      <td>01 Ağustos 2017 Salı</td>\n",
       "      <td>karar</td>\n",
       "      <td>Ulusal</td>\n",
       "      <td>yardımcı doçentlik ne demek</td>\n",
       "      <td>yardımcı doçentlik ne demek? doktora ile doçen...</td>\n",
       "      <td>not_hate</td>\n",
       "      <td>[yardımcı doçentlik ne demek, doktora ile doçe...</td>\n",
       "      <td>yardımcı doçentlik ne demek yardımcı doçentlik...</td>\n",
       "      <td>val</td>\n",
       "    </tr>\n",
       "    <tr>\n",
       "      <th>...</th>\n",
       "      <td>...</td>\n",
       "      <td>...</td>\n",
       "      <td>...</td>\n",
       "      <td>...</td>\n",
       "      <td>...</td>\n",
       "      <td>...</td>\n",
       "      <td>...</td>\n",
       "      <td>...</td>\n",
       "      <td>...</td>\n",
       "      <td>...</td>\n",
       "    </tr>\n",
       "    <tr>\n",
       "      <th>4802</th>\n",
       "      <td>4829</td>\n",
       "      <td>19 Ekim 2017 Perşembe</td>\n",
       "      <td>diyarbakır söz</td>\n",
       "      <td>yerel</td>\n",
       "      <td>günün</td>\n",
       "      <td>günün yorumu mehmet ali altındağ müstakil ve b...</td>\n",
       "      <td>hate</td>\n",
       "      <td>[günün yorumu mehmet ali altındağ müstakil ve ...</td>\n",
       "      <td>günün günün yorumu mehmet ali altındağ müstaki...</td>\n",
       "      <td>train</td>\n",
       "    </tr>\n",
       "    <tr>\n",
       "      <th>16312</th>\n",
       "      <td>16360</td>\n",
       "      <td>20 Haziran 2017 Salı</td>\n",
       "      <td>denizli horoz</td>\n",
       "      <td>Yerel</td>\n",
       "      <td>ikinci yolcu anıl</td>\n",
       "      <td>ikinci yolcu anıl denizlispor'da sezon başında...</td>\n",
       "      <td>not_hate</td>\n",
       "      <td>[ikinci yolcu anıl denizlisporda sezon başında...</td>\n",
       "      <td>ikinci yolcu anıl ikinci yolcu anıl denizlispo...</td>\n",
       "      <td>train</td>\n",
       "    </tr>\n",
       "    <tr>\n",
       "      <th>21448</th>\n",
       "      <td>21496</td>\n",
       "      <td>15 Ağustos 2018 Çarşamba</td>\n",
       "      <td>mayıs gazetesi</td>\n",
       "      <td>Yerel</td>\n",
       "      <td>allah bu güzel kardeşlerimizin sıkıntılarını a...</td>\n",
       "      <td>allah bu güzel kardeşlerimizin sıkıntılarını a...</td>\n",
       "      <td>not_hate</td>\n",
       "      <td>[allah bu güzel kardeşlerimizin sıkıntılarını ...</td>\n",
       "      <td>allah bu güzel kardeşlerimizin sıkıntılarını a...</td>\n",
       "      <td>train</td>\n",
       "    </tr>\n",
       "    <tr>\n",
       "      <th>13760</th>\n",
       "      <td>13808</td>\n",
       "      <td>08 Nisan 2016 Cuma</td>\n",
       "      <td>karar</td>\n",
       "      <td>Ulusal</td>\n",
       "      <td>kupa bu kez gelecek</td>\n",
       "      <td>kupa fenerbahçe kadın basketbol takımı oyuncul...</td>\n",
       "      <td>not_hate</td>\n",
       "      <td>[kupa fenerbahçe kadın basketbol takımı oyuncu...</td>\n",
       "      <td>kupa bu kez gelecek kupa fenerbahçe kadın bask...</td>\n",
       "      <td>train</td>\n",
       "    </tr>\n",
       "    <tr>\n",
       "      <th>22531</th>\n",
       "      <td>22581</td>\n",
       "      <td>08 Nisan 2019 Pazartesi</td>\n",
       "      <td>damga şanlıurfa</td>\n",
       "      <td>yerel</td>\n",
       "      <td>tüm ve suriyeli çocuklar bisiklet turunda bulu...</td>\n",
       "      <td>tüm ve suriyeli çocuklar bisiklet turunda bulu...</td>\n",
       "      <td>not_hate</td>\n",
       "      <td>[tüm ve suriyeli çocuklar bisiklet turunda bul...</td>\n",
       "      <td>tüm ve suriyeli çocuklar bisiklet turunda bulu...</td>\n",
       "      <td>train</td>\n",
       "    </tr>\n",
       "  </tbody>\n",
       "</table>\n",
       "<p>200 rows × 10 columns</p>\n",
       "</div>"
      ],
      "text/plain": [
       "          id                      date                  pub_name    type  \\\n",
       "16954  17002     04 Ocak 2017 Çarşamba                     dünya  Ulusal   \n",
       "23393  23443   17 Temmuz 2019 Çarşamba           ilkses gazetesi   yerel   \n",
       "22990  23040    30 Mayıs 2019 Perşembe  trakya demokrat gazetesi   yerel   \n",
       "9423    9464       02 Temmuz 2019 Salı              denge samsun   yerel   \n",
       "15167  15215      01 Ağustos 2017 Salı                     karar  Ulusal   \n",
       "...      ...                       ...                       ...     ...   \n",
       "4802    4829     19 Ekim 2017 Perşembe            diyarbakır söz   yerel   \n",
       "16312  16360      20 Haziran 2017 Salı             denizli horoz   Yerel   \n",
       "21448  21496  15 Ağustos 2018 Çarşamba            mayıs gazetesi   Yerel   \n",
       "13760  13808        08 Nisan 2016 Cuma                     karar  Ulusal   \n",
       "22531  22581   08 Nisan 2019 Pazartesi           damga şanlıurfa   yerel   \n",
       "\n",
       "                                                   title  \\\n",
       "16954  muhalifler astana müzakerelerini boykot etme k...   \n",
       "23393        cezaevindeki çocuklara bez bebek arkadaşlar   \n",
       "22990                                  şehadet kelim esi   \n",
       "9423                                        bilek güreşi   \n",
       "15167                        yardımcı doçentlik ne demek   \n",
       "...                                                  ...   \n",
       "4802                                               günün   \n",
       "16312                                  ikinci yolcu anıl   \n",
       "21448  allah bu güzel kardeşlerimizin sıkıntılarını a...   \n",
       "13760                                kupa bu kez gelecek   \n",
       "22531  tüm ve suriyeli çocuklar bisiklet turunda bulu...   \n",
       "\n",
       "                                                 content     Label  \\\n",
       "16954  hassas ateşkesin sonu gelebilir muhalifler ast...  not_hate   \n",
       "23393  cezaevindeki çocuklara bez bebek arkadaşlar iz...  not_hate   \n",
       "22990  yazılarım akif can islamın ilk güzergahı ve an...  not_hate   \n",
       "9423   dursen ozalemdar tefekkür bilek güreşi ülkemiz...      hate   \n",
       "15167  yardımcı doçentlik ne demek? doktora ile doçen...  not_hate   \n",
       "...                                                  ...       ...   \n",
       "4802   günün yorumu mehmet ali altındağ müstakil ve b...      hate   \n",
       "16312  ikinci yolcu anıl denizlispor'da sezon başında...  not_hate   \n",
       "21448  allah bu güzel kardeşlerimizin sıkıntılarını a...  not_hate   \n",
       "13760  kupa fenerbahçe kadın basketbol takımı oyuncul...  not_hate   \n",
       "22531  tüm ve suriyeli çocuklar bisiklet turunda bulu...  not_hate   \n",
       "\n",
       "                                               sentences  \\\n",
       "16954  [hassas ateşkesin sonu gelebilir muhalifler as...   \n",
       "23393  [cezaevindeki çocuklara bez bebek arkadaşlar i...   \n",
       "22990  [yazılarım akif can islamın ilk güzergahı ve a...   \n",
       "9423   [dursen ozalemdar tefekkür bilek güreşi ülkemi...   \n",
       "15167  [yardımcı doçentlik ne demek, doktora ile doçe...   \n",
       "...                                                  ...   \n",
       "4802   [günün yorumu mehmet ali altındağ müstakil ve ...   \n",
       "16312  [ikinci yolcu anıl denizlisporda sezon başında...   \n",
       "21448  [allah bu güzel kardeşlerimizin sıkıntılarını ...   \n",
       "13760  [kupa fenerbahçe kadın basketbol takımı oyuncu...   \n",
       "22531  [tüm ve suriyeli çocuklar bisiklet turunda bul...   \n",
       "\n",
       "                                                    text  phase  \n",
       "16954  muhalifler astana müzakerelerini boykot etme k...  train  \n",
       "23393  cezaevindeki çocuklara bez bebek arkadaşlar ce...  train  \n",
       "22990  şehadet kelim esi yazılarım akif can islamın i...   test  \n",
       "9423   bilek güreşi dursen ozalemdar tefekkür bilek g...  train  \n",
       "15167  yardımcı doçentlik ne demek yardımcı doçentlik...    val  \n",
       "...                                                  ...    ...  \n",
       "4802   günün günün yorumu mehmet ali altındağ müstaki...  train  \n",
       "16312  ikinci yolcu anıl ikinci yolcu anıl denizlispo...  train  \n",
       "21448  allah bu güzel kardeşlerimizin sıkıntılarını a...  train  \n",
       "13760  kupa bu kez gelecek kupa fenerbahçe kadın bask...  train  \n",
       "22531  tüm ve suriyeli çocuklar bisiklet turunda bulu...  train  \n",
       "\n",
       "[200 rows x 10 columns]"
      ]
     },
     "execution_count": 236,
     "metadata": {},
     "output_type": "execute_result"
    }
   ],
   "source": [
    "sample_data = data.sample(200)\n",
    "sample_data"
   ]
  },
  {
   "cell_type": "code",
   "execution_count": 251,
   "id": "47678415-8221-413a-991a-bcb9ad8e4939",
   "metadata": {},
   "outputs": [],
   "source": [
    "class LinguisticRuleAssigner:\n",
    "    def __init__(self):\n",
    "        self.general_rules = [        \n",
    "            r\"\\s[IRK](?!istan|stan|ya)(lık|lik|luk|lük)\\s(.*?)(yap)\",\n",
    "            r\"\\s[IRK_KIMLIK](?!istan|stan|ya)\\s(.*?)(skandalı)\",\n",
    "            r\"\\s[KIMLIK](?!istan|stan|ya)(ların|lerin|in|ın|un|ün)?\\s(.*?)(işgali)\",\n",
    "            r\"\\s[IRK_KIMLIK](?!istan|stan|ya)(a|e)\\s(bak sen)\",\n",
    "            r\"\\s[IRK](?!istan|stan|ya)(ların|lerin|in|ın|un|ün)?\\s(.*?)(işgali)\",\n",
    "            r\"\\s[IRK](?!istan|stan|ya)\\s(.*?)\\s[IRK](?!istan|stan|ya)(lığını|liğini|luğunu|lüğünü)\\s(.*?)(yap)\",\n",
    "            r\"\\s[IRK](?!istan|stan|ya)(ın|in|un|ün)\\s(.*?)(uşağı|işbirlikçisi|piyonu|kuklası)(.*?)\\s[IRK](?!istan|stan|ya)\\s\",\n",
    "            r\"\\s[IRK](?!istan|stan|ya)(ın|in|un|ün)\\s(.*?)(hain|vahşi|insanlık dışı|hunharca|kan donduran|şeytani|sinsi|[ADJBEF])\\s(teşebbüsleri|planları|oluşumları|[ADJAFTER])\",\n",
    "            r\"\\s[IRK](?!istan|stan|ya)\\s(.*?)(kurşunlarıyla|bombalarıyla|parasıyla)\",\n",
    "            r\"\\s[IRK](?!istan|stan|ya)(ın|in|un|ün)\\s(.*?)(gerçekleştirdiği|yaptığı)(.*?)(katliam|zulüm|soykırım|[ADJAFTER])\",\n",
    "            r\"\\s[IRK](?!istan|stan|ya)\\s(tarafından)\\s(gerçekleştirilen|yapılan)(.*?)(saldırılar|katliam|zulüm|soykırım|[ADJAFTER])\",\n",
    "            r\"\\s[IRK](?!istan|stan|ya)\\s(tarafından)\\s[IRK](?!istan|stan|ya)(a|e)(yönelik)?(.*?)(saldırılar|katliam|zulüm|soykırım|[ADJAFTER])\",\n",
    "            r\"\\s[IRK](?!istan|stan|ya)\\s(tarafından)(.*?)(saldırıya|katliama|zulme|soykırıma)(.*?)(maruz kal|uğra)\",\n",
    "            r\"\\s[IRK]\\s(destekli)(.*?)\\s[IRK](?!istan|stan|ya)\\s(darbesi|saldırıları|katliamı|soykırımı)\",\n",
    "            r\"\\s[IRK](?!istan|stan|ya)\\s(.*?)(öldürdü|katletti|etnik temizlik yaptı|kirletti|bastı|şehit etti)\",\n",
    "            r\"\\s[IRK](?!istan|stan|ya)\\s(tarafından)(.*?)(öldürüldü|katledildi|basıldı|şehit edildi)\"\n",
    "        ]\n",
    "        self.anti_hs_rules = [\n",
    "            r\"\"\"\\s[IRK](?!istan|stan|ya)\\s(çeteleri|fanatikler|fanatiği|askerleri|milisleri|militanları|yerleşimciler|milliyetçiler|güçleri|isyanı|yaygaracılığı|polisi)\"\"\",\n",
    "            r\"(radikal|ırkçı|fanatik)\\s[IRK](?!istan|stan|ya)\\s\",\n",
    "            r\"\\s[IRK](?!istan|stan|ya)(cı|ci|çi|cu|cü|çü)\\sterör\\sörgütü\"\n",
    "        ]\n",
    "        \n",
    "        self.special_patterns = json.load(open(\"special_patterns.json\", \"r\"))\n",
    "        self.hs_specific_verbs = json.load(open(\"hs_specific_verbs.json\", \"r\"))\n",
    "        self.anti_hs_patterns = json.load(open(\"anti_hs.json\", \"r\"))\n",
    "        self.adj_bef_keyword = json.load(open(\"adjacent_before_keyword.json\", \"r\"))\n",
    "        self.adj_after_keyword = json.load(open(\"adjacent_after_keyword.json\", \"r\"))\n",
    "        \n",
    "        self.keywords = json.load(open(\"targeted_keywords.json\", \"r\"))\n",
    "        self.irk = \"(\" + \"|\".join(self.keywords[\"IRK\"]) + \")\"\n",
    "        self.kimlik = \"(\" + \"|\".join(self.keywords[\"KIMLIK\"]) + \")\"\n",
    "        self.irk_kimlik = \"(\" + \"|\".join(self.keywords[\"IRK\"] + self.keywords[\"KIMLIK\"]) + \")\"\n",
    "        \n",
    "        self.adjbef = \"|\".join([item for sublist in list(self.adj_bef_keyword.values()) for item in sublist])\n",
    "        self.adjafter = \"|\".join([item for sublist in list(self.adj_after_keyword.values()) for item in sublist])\n",
    "        \n",
    "        self.turkish_to_latin_map = {ord(\"ü\"): \"u\", ord(\"ö\"): \"o\", ord(\"ı\"): \"i\", ord(\"ğ\"): \"g\", ord(\"ş\"): \"s\", ord(\"ç\"): \"c\"}\n",
    "        \n",
    "        self.__prepare_rules()\n",
    "    \n",
    "    def __add_keyword_into_rule(self, rules):\n",
    "        for i in range(len(rules)):\n",
    "            if \"[IRK_KIMLIK]\" in rules[i]:\n",
    "                rules[i] = rules[i].replace(\"[IRK_KIMLIK]\", self.irk_kimlik)\n",
    "            if \"[IRK]\" in rules[i]:\n",
    "                rules[i] = rules[i].replace(\"[IRK]\", self.irk)\n",
    "            if \"[KIMLIK]\" in rules[i]:\n",
    "                rules[i] = rules[i].replace(\"[KIMLIK]\", self.kimlik)\n",
    "            if \"[ADJBEF]\" in rules[i]:\n",
    "                rules[i] = rules[i].replace(\"[ADJBEF]\", self.adjbef)\n",
    "            if \"[ADJAFTER]\" in rules[i]:\n",
    "                rules[i] = rules[i].replace(\"[ADJAFTER]\", self.adjafter)\n",
    "        return rules \n",
    "    \n",
    "    def __prepare_rules(self):\n",
    "        self.general_rules = self.__add_keyword_into_rule(self.general_rules)\n",
    "        self.anti_hs_rules = self.__add_keyword_into_rule(self.anti_hs_rules)\n",
    "    \n",
    "    def __detect_special_pattern(self, text):\n",
    "        pattern_list = []\n",
    "        for _, patterns in self.special_patterns.items():\n",
    "            if len(patterns) != 0:\n",
    "                patterns = f\"\\s({'|'.join(patterns)})|({'|'.join(patterns)})\\s\"\n",
    "                patterns = r'{}'.format(patterns)\n",
    "                found_texts = re.findall(patterns, text, flags=re.I)\n",
    "                if len(found_texts) > 0:\n",
    "                    pattern_list.append(1)\n",
    "                else:\n",
    "                    pattern_list.append(0)\n",
    "            else:\n",
    "                pattern_list.append(0)\n",
    "        return pattern_list\n",
    "    \n",
    "    def __detect_general_rules(self, text):\n",
    "        nof_rules_detected = 0\n",
    "        for rule in self.general_rules:\n",
    "            found_texts = re.findall(rule, text, flags=re.I)\n",
    "            if len(found_texts) > 0:\n",
    "                nof_rules_detected += 1\n",
    "        return nof_rules_detected / len(self.general_rules)\n",
    "    \n",
    "    def __detect_anti_hs(self, text):\n",
    "        pattern_list = []\n",
    "        for degree, patterns in self.anti_hs_patterns.items():\n",
    "            if len(patterns) != 0:\n",
    "                found_rule = False\n",
    "                if degree == \"20\":\n",
    "                    for rule in self.anti_hs_rules:\n",
    "                        found_texts = re.findall(rule, text, flags=re.I)\n",
    "                        if len(found_texts) > 0:\n",
    "                            found_rule = True\n",
    "                            break\n",
    "                patterns = f\"\\s({'|'.join(patterns)})|({'|'.join(patterns)})\\s\"\n",
    "                patterns = r'{}'.format(patterns)\n",
    "                found_texts = re.findall(patterns, text, flags=re.I)\n",
    "                if len(found_texts) > 0 or found_rule:\n",
    "                    pattern_list.append(1)\n",
    "                else:\n",
    "                    pattern_list.append(0)\n",
    "            else:\n",
    "                pattern_list.append(0)\n",
    "        return pattern_list\n",
    "        \n",
    "    def __detect_bef_adj(self, text):\n",
    "        pattern_list = []\n",
    "        for _, patterns in self.adj_bef_keyword.items():\n",
    "            if len(patterns) != 0:\n",
    "                patterns = f\"\\s({'|'.join(patterns)})\\s{self.irk}(?!istan|stan|ya)\\s\"\n",
    "                patterns = r'{}'.format(patterns)\n",
    "                found_texts = re.findall(patterns, text, flags=re.I)\n",
    "                if len(found_texts) > 0:\n",
    "                    pattern_list.append(1)\n",
    "                else:\n",
    "                    pattern_list.append(0)\n",
    "            else:\n",
    "                pattern_list.append(0)\n",
    "        return pattern_list\n",
    "\n",
    "    def __detect_after_adj(self, text):\n",
    "        pattern_list = []\n",
    "        for _, patterns in self.adj_after_keyword.items():\n",
    "            if len(patterns) != 0:\n",
    "                patterns = f\"\\s{self.irk}(?!istan|stan|ya)\\s({'|'.join(patterns)})\\s\"\n",
    "                patterns = r'{}'.format(patterns)\n",
    "                found_texts = re.findall(patterns, text, flags=re.I)\n",
    "                if len(found_texts) > 0:\n",
    "                    pattern_list.append(1)\n",
    "                else:\n",
    "                    pattern_list.append(0)\n",
    "            else:\n",
    "                pattern_list.append(0)\n",
    "        return pattern_list\n",
    "\n",
    "    def __detect_hs_specific_verbs(self, text):\n",
    "        pattern_list = []\n",
    "        for _, patterns in self.hs_specific_verbs.items():\n",
    "            if len(patterns) != 0:\n",
    "                found_pattern = False\n",
    "                patterns = f\"\\s{self.irk}(?!istan|stan|ya)(.*?)({'|'.join(patterns)})\"\n",
    "                patterns = r'{}'.format(patterns)\n",
    "                found_texts = re.findall(patterns, text, flags=re.I)\n",
    "                for found_text in found_texts:\n",
    "                    if len(found_text[1].split()) > 13:\n",
    "                        new_text = \" \".join(found_text[1].split()[-13:]) + \" \" + found_text[2]\n",
    "                        if len(re.findall(patterns, new_text, flags=re.I)) > 0:\n",
    "                            found_pattern = True\n",
    "                            break\n",
    "                    else:\n",
    "                        found_pattern = True\n",
    "                        break\n",
    "                if found_pattern:\n",
    "                    pattern_list.append(1)\n",
    "                else:\n",
    "                    pattern_list.append(0)\n",
    "            else:\n",
    "                pattern_list.append(0)\n",
    "        return pattern_list\n",
    "        \n",
    "    def apply_rules(self, data):\n",
    "        data[\"special_pattern\"] = data[\"text\"].apply(lambda text: self.__detect_special_pattern(text))\n",
    "        data[\"general_rule\"] = data[\"text\"].apply(lambda text: self.__detect_general_rules(text))\n",
    "        data[\"anti_hs\"] = data[\"text\"].apply(lambda text: self.__detect_anti_hs(text))\n",
    "        data[\"hs_specific_verb\"] = data[\"text\"].apply(lambda text: self.__detect_hs_specific_verbs(text))\n",
    "        data[\"adj_bef_keyword\"] = data[\"text\"].apply(lambda text: self.__detect_bef_adj(text))\n",
    "        data[\"adj_after_keyword\"] = data[\"text\"].apply(lambda text: self.__detect_after_adj(text))\n",
    "        return data"
   ]
  },
  {
   "cell_type": "code",
   "execution_count": 252,
   "id": "39b99346-5272-4678-8abe-1d733e6adcfd",
   "metadata": {},
   "outputs": [],
   "source": [
    "rule_assigner = LinguisticRuleAssigner()"
   ]
  },
  {
   "cell_type": "code",
   "execution_count": 253,
   "id": "29114661-6b8d-4921-bddb-01c379e0b59f",
   "metadata": {
    "tags": []
   },
   "outputs": [
    {
     "name": "stdout",
     "output_type": "stream",
     "text": [
      "[('yahudi', 'baskını'), ('yahudi', 'baskını')]\n",
      "[('yahudi', 'haydutlar')]\n",
      "[('ermeni', 'piçleri')]\n",
      "[('suriyeli', 'vahşeti')]\n"
     ]
    }
   ],
   "source": [
    "sample_data =  rule_assigner.apply_rules(sample_data)"
   ]
  },
  {
   "cell_type": "code",
   "execution_count": 254,
   "id": "a984bdc3-c436-417e-ae4f-ceb06e320cb7",
   "metadata": {},
   "outputs": [],
   "source": [
    "sample_data[\"adj_after_pattern\"] = sample_data[\"adj_after_keyword\"].apply(lambda x: sum(x))"
   ]
  },
  {
   "cell_type": "code",
   "execution_count": 255,
   "id": "173b756b-c98f-4595-b09f-2c6608bd1a08",
   "metadata": {
    "tags": []
   },
   "outputs": [
    {
     "data": {
      "text/html": [
       "<div>\n",
       "<style scoped>\n",
       "    .dataframe tbody tr th:only-of-type {\n",
       "        vertical-align: middle;\n",
       "    }\n",
       "\n",
       "    .dataframe tbody tr th {\n",
       "        vertical-align: top;\n",
       "    }\n",
       "\n",
       "    .dataframe thead th {\n",
       "        text-align: right;\n",
       "    }\n",
       "</style>\n",
       "<table border=\"1\" class=\"dataframe\">\n",
       "  <thead>\n",
       "    <tr style=\"text-align: right;\">\n",
       "      <th></th>\n",
       "      <th>id</th>\n",
       "      <th>date</th>\n",
       "      <th>pub_name</th>\n",
       "      <th>type</th>\n",
       "      <th>title</th>\n",
       "      <th>content</th>\n",
       "      <th>Label</th>\n",
       "      <th>sentences</th>\n",
       "      <th>text</th>\n",
       "      <th>phase</th>\n",
       "      <th>hs_specific_verb</th>\n",
       "      <th>special_pattern</th>\n",
       "      <th>general_rule</th>\n",
       "      <th>anti_hs</th>\n",
       "      <th>adj_bef_keyword</th>\n",
       "      <th>adj_after_keyword</th>\n",
       "      <th>adj_after_pattern</th>\n",
       "    </tr>\n",
       "  </thead>\n",
       "  <tbody>\n",
       "    <tr>\n",
       "      <th>4764</th>\n",
       "      <td>4791</td>\n",
       "      <td>12 Ekim 2017 Perşembe</td>\n",
       "      <td>yeni akit</td>\n",
       "      <td>ulusal</td>\n",
       "      <td>mescidi aksa ya yine yahudi baskını</td>\n",
       "      <td>mescid-i aksa'ya yine yahudi baskını israil po...</td>\n",
       "      <td>hate</td>\n",
       "      <td>[mescidi aksaya yine yahudi baskını israil pol...</td>\n",
       "      <td>mescidi aksa ya yine yahudi baskını mescidi ak...</td>\n",
       "      <td>train</td>\n",
       "      <td>[0, 0, 0, 0, 0]</td>\n",
       "      <td>[0, 0, 0, 0, 0]</td>\n",
       "      <td>0.0000</td>\n",
       "      <td>[0, 0, 1, 0, 0]</td>\n",
       "      <td>[0, 0, 0, 0, 0]</td>\n",
       "      <td>[0, 0, 1, 0, 0]</td>\n",
       "      <td>1</td>\n",
       "    </tr>\n",
       "    <tr>\n",
       "      <th>7272</th>\n",
       "      <td>7305</td>\n",
       "      <td>10 Nisan 2018 Salı</td>\n",
       "      <td>milat</td>\n",
       "      <td>ulusal</td>\n",
       "      <td>ismail selvi</td>\n",
       "      <td>öteden/beriden ismail zelvi kudüs'e zeytin dal...</td>\n",
       "      <td>hate</td>\n",
       "      <td>[ötedenberiden ismail zelvi kudüse zeytin dalı...</td>\n",
       "      <td>ismail selvi ötedenberiden ismail zelvi kudüse...</td>\n",
       "      <td>train</td>\n",
       "      <td>[0, 0, 0, 0, 0]</td>\n",
       "      <td>[0, 0, 0, 0, 0]</td>\n",
       "      <td>0.0625</td>\n",
       "      <td>[0, 0, 0, 0, 0]</td>\n",
       "      <td>[0, 0, 0, 0, 0]</td>\n",
       "      <td>[0, 1, 0, 0, 0]</td>\n",
       "      <td>1</td>\n",
       "    </tr>\n",
       "    <tr>\n",
       "      <th>1626</th>\n",
       "      <td>1638</td>\n",
       "      <td>06 Eylül 2016 Salı</td>\n",
       "      <td>kayseri star haber</td>\n",
       "      <td>Yerel</td>\n",
       "      <td>ahmet sıvacı</td>\n",
       "      <td>tendürek a, dağında ağlar kurtlar kuşlar tendü...</td>\n",
       "      <td>hate</td>\n",
       "      <td>[tendürek dağında ağlar kurtlar kuşlar tendüre...</td>\n",
       "      <td>ahmet sıvacı tendürek dağında ağlar kurtlar ku...</td>\n",
       "      <td>train</td>\n",
       "      <td>[0, 0, 0, 1, 0]</td>\n",
       "      <td>[0, 0, 0, 0, 0]</td>\n",
       "      <td>0.0000</td>\n",
       "      <td>[0, 0, 0, 0, 0]</td>\n",
       "      <td>[0, 0, 0, 0, 0]</td>\n",
       "      <td>[0, 0, 0, 0, 1]</td>\n",
       "      <td>1</td>\n",
       "    </tr>\n",
       "    <tr>\n",
       "      <th>559</th>\n",
       "      <td>562</td>\n",
       "      <td>17 Şubat 2016 Çarşamba</td>\n",
       "      <td>adana günlük</td>\n",
       "      <td>Yerel</td>\n",
       "      <td>fa pyşg</td>\n",
       "      <td>•:vo; ** **- -. »c yine suriyeli vahşeti adana...</td>\n",
       "      <td>hate</td>\n",
       "      <td>[yine suriyeli vahşeti adanada suriyeli inşaat...</td>\n",
       "      <td>fa pyşg yine suriyeli vahşeti adanada suriyeli...</td>\n",
       "      <td>train</td>\n",
       "      <td>[0, 0, 0, 0, 0]</td>\n",
       "      <td>[0, 0, 0, 0, 0]</td>\n",
       "      <td>0.0000</td>\n",
       "      <td>[0, 0, 0, 0, 0]</td>\n",
       "      <td>[0, 0, 0, 0, 0]</td>\n",
       "      <td>[0, 0, 0, 0, 1]</td>\n",
       "      <td>1</td>\n",
       "    </tr>\n",
       "  </tbody>\n",
       "</table>\n",
       "</div>"
      ],
      "text/plain": [
       "        id                    date            pub_name    type  \\\n",
       "4764  4791   12 Ekim 2017 Perşembe           yeni akit  ulusal   \n",
       "7272  7305      10 Nisan 2018 Salı               milat  ulusal   \n",
       "1626  1638      06 Eylül 2016 Salı  kayseri star haber   Yerel   \n",
       "559    562  17 Şubat 2016 Çarşamba        adana günlük   Yerel   \n",
       "\n",
       "                                    title  \\\n",
       "4764  mescidi aksa ya yine yahudi baskını   \n",
       "7272                         ismail selvi   \n",
       "1626                         ahmet sıvacı   \n",
       "559                               fa pyşg   \n",
       "\n",
       "                                                content Label  \\\n",
       "4764  mescid-i aksa'ya yine yahudi baskını israil po...  hate   \n",
       "7272  öteden/beriden ismail zelvi kudüs'e zeytin dal...  hate   \n",
       "1626  tendürek a, dağında ağlar kurtlar kuşlar tendü...  hate   \n",
       "559   •:vo; ** **- -. »c yine suriyeli vahşeti adana...  hate   \n",
       "\n",
       "                                              sentences  \\\n",
       "4764  [mescidi aksaya yine yahudi baskını israil pol...   \n",
       "7272  [ötedenberiden ismail zelvi kudüse zeytin dalı...   \n",
       "1626  [tendürek dağında ağlar kurtlar kuşlar tendüre...   \n",
       "559   [yine suriyeli vahşeti adanada suriyeli inşaat...   \n",
       "\n",
       "                                                   text  phase  \\\n",
       "4764  mescidi aksa ya yine yahudi baskını mescidi ak...  train   \n",
       "7272  ismail selvi ötedenberiden ismail zelvi kudüse...  train   \n",
       "1626  ahmet sıvacı tendürek dağında ağlar kurtlar ku...  train   \n",
       "559   fa pyşg yine suriyeli vahşeti adanada suriyeli...  train   \n",
       "\n",
       "     hs_specific_verb  special_pattern  general_rule          anti_hs  \\\n",
       "4764  [0, 0, 0, 0, 0]  [0, 0, 0, 0, 0]        0.0000  [0, 0, 1, 0, 0]   \n",
       "7272  [0, 0, 0, 0, 0]  [0, 0, 0, 0, 0]        0.0625  [0, 0, 0, 0, 0]   \n",
       "1626  [0, 0, 0, 1, 0]  [0, 0, 0, 0, 0]        0.0000  [0, 0, 0, 0, 0]   \n",
       "559   [0, 0, 0, 0, 0]  [0, 0, 0, 0, 0]        0.0000  [0, 0, 0, 0, 0]   \n",
       "\n",
       "      adj_bef_keyword adj_after_keyword  adj_after_pattern  \n",
       "4764  [0, 0, 0, 0, 0]   [0, 0, 1, 0, 0]                  1  \n",
       "7272  [0, 0, 0, 0, 0]   [0, 1, 0, 0, 0]                  1  \n",
       "1626  [0, 0, 0, 0, 0]   [0, 0, 0, 0, 1]                  1  \n",
       "559   [0, 0, 0, 0, 0]   [0, 0, 0, 0, 1]                  1  "
      ]
     },
     "execution_count": 255,
     "metadata": {},
     "output_type": "execute_result"
    }
   ],
   "source": [
    "sample_data.query(\"adj_after_pattern > 0\").sort_values(\"adj_after_pattern\", ascending=False)"
   ]
  },
  {
   "cell_type": "code",
   "execution_count": null,
   "id": "b97cd438-af32-4c16-9910-10d393a3ce8e",
   "metadata": {},
   "outputs": [],
   "source": []
  },
  {
   "cell_type": "code",
   "execution_count": 252,
   "id": "00ed3ce9-b83a-4d87-8ec0-aa46a62bdf23",
   "metadata": {},
   "outputs": [
    {
     "data": {
      "text/plain": [
       "array([], dtype=object)"
      ]
     },
     "execution_count": 252,
     "metadata": {},
     "output_type": "execute_result"
    }
   ],
   "source": [
    "sample_data.query(\"id == 11294\").text.values"
   ]
  },
  {
   "cell_type": "code",
   "execution_count": 261,
   "id": "424ad0f6-62c0-447b-b604-b967a2efc23c",
   "metadata": {},
   "outputs": [],
   "source": [
    "keywords = json.load(open(\"targeted_keywords.json\", \"r\"))"
   ]
  },
  {
   "cell_type": "code",
   "execution_count": 260,
   "id": "167c5353-1260-4c0a-b57f-cb8be6a67a2f",
   "metadata": {},
   "outputs": [
    {
     "data": {
      "text/plain": [
       "'sapıtan|çakma|facir|gizli|şımarık|kışkırmış|hırsız|katleden|korkak|yamyam|başbelası|kripto|içimizdeki|sinsi|açgözlü|dönek|ikiyüzlü|azgın|edepsiz|yağmacı|çapulcu|işgalci|gaspçı|lanetlenmiş|allahın lanetlediği|zalim|şerefsiz|gaddar|gasıp|canavarlaşmış|canavarlaşan|hain|katleden|gavur|kalleş|kan gölüne çeviren|katil|insanlık suçu işleyen|bebek katili|cani|vahşi|eli kanlı'"
      ]
     },
     "execution_count": 260,
     "metadata": {},
     "output_type": "execute_result"
    }
   ],
   "source": [
    "\"|\".join([item for sublist in list(adj_bef_keyword.values()) for item in sublist])\n",
    "#[item for item in degree_list for degree_list in ]"
   ]
  },
  {
   "cell_type": "code",
   "execution_count": 12,
   "id": "795494d0-610b-43c7-ba8b-6830837d72dd",
   "metadata": {},
   "outputs": [],
   "source": [
    "special_patterns = json.load(open(\"special_patterns.json\", \"r\"))"
   ]
  },
  {
   "cell_type": "code",
   "execution_count": 21,
   "id": "02442482-1730-46a1-b424-ad20440391e8",
   "metadata": {},
   "outputs": [
    {
     "name": "stdout",
     "output_type": "stream",
     "text": [
      "\\s(vahşi toplumlar|batı cehaleti|haçlı zihniyeti|haçlı ruhu|kriptolar)|(vahşi toplumlar|batı cehaleti|haçlı zihniyeti|haçlı ruhu|kriptolar)\\s\n",
      "\\s(batıl batı)|(batıl batı)\\s\n",
      "\\s(yahudi ajanı|yahudi uşağı|kripto ermeni|suriyeli işgali|afgan işgali|mülteci işgali|pakistanlı işgali|arapların işgali)|(yahudi ajanı|yahudi uşağı|kripto ermeni|suriyeli işgali|afgan işgali|mülteci işgali|pakistanlı işgali|arapların işgali)\\s\n",
      "\\s(yahudi çakallığı|katil rum|haydut rumlar|rum zorbalığı|kafir alevi|ateist alevi|ateist aleviler|ateist PKK)|(yahudi çakallığı|katil rum|haydut rumlar|rum zorbalığı|kafir alevi|ateist alevi|ateist aleviler|ateist PKK)\\s\n"
     ]
    }
   ],
   "source": [
    "pattern_list = []\n",
    "for degree, patterns in special_patterns.items():\n",
    "    if len(patterns) != 0:\n",
    "        patterns = f\"\\s({'|'.join(patterns)})|({'|'.join(patterns)})\\s\"\n",
    "        patterns = r'{}'.format(patterns)\n",
    "        finded_texts = re.findall(patterns, text, flags=re.I)\n",
    "        if len(finded_texts) > 0:\n",
    "            pattern_list.append(1)\n",
    "        else:\n",
    "            pattern_list.append(0)\n",
    "    else:\n",
    "        pattern_list.append(0)"
   ]
  },
  {
   "cell_type": "code",
   "execution_count": 17,
   "id": "f54f06d8-ddc2-4416-b113-0ddc6391f0b1",
   "metadata": {},
   "outputs": [
    {
     "data": {
      "text/plain": [
       "['vahşi toplumlar',\n",
       " 'batı cehaleti',\n",
       " 'haçlı zihniyeti',\n",
       " 'haçlı ruhu',\n",
       " 'kriptolar']"
      ]
     },
     "execution_count": 17,
     "metadata": {},
     "output_type": "execute_result"
    }
   ],
   "source": [
    "patterns"
   ]
  },
  {
   "cell_type": "code",
   "execution_count": 18,
   "id": "d1ccd5c6-90b1-43f1-93c9-8f4fb8679524",
   "metadata": {},
   "outputs": [
    {
     "data": {
      "text/plain": [
       "'vahşi toplumlar|batı cehaleti|haçlı zihniyeti|haçlı ruhu|kriptolar'"
      ]
     },
     "execution_count": 18,
     "metadata": {},
     "output_type": "execute_result"
    }
   ],
   "source": [
    "'|'.join(patterns)"
   ]
  },
  {
   "cell_type": "code",
   "execution_count": 141,
   "id": "5625e411-24d8-48db-b14e-192f42a6a308",
   "metadata": {},
   "outputs": [
    {
     "data": {
      "text/plain": [
       "['rusluk konusunda konuşma yap', 'rumluk yap']"
      ]
     },
     "execution_count": 141,
     "metadata": {},
     "output_type": "execute_result"
    }
   ],
   "source": [
    "re.findall(r'[rum|rus|ermeni][luk|lik].*?yap', \"bugün rusluk konusunda konuşma yapan insan da çok rumluk yapamayan da çok.\")"
   ]
  },
  {
   "cell_type": "code",
   "execution_count": 183,
   "id": "7a4a0912-cead-4b8e-b23f-234a6df0a4cc",
   "metadata": {},
   "outputs": [
    {
     "data": {
      "text/plain": [
       "[('rum', 'un', 'barbar')]"
      ]
     },
     "execution_count": 183,
     "metadata": {},
     "output_type": "execute_result"
    }
   ],
   "source": [
    "re.findall(r'(rum|fransızlar|ermeniler)(un|ın|in).*(hain|barbar)+', \"bu rumun haince tutumlarından ötürü ve fransızların barbar yaklaşımları ve ermenilerin bu durmaz barbar bizi yordu.\", flags=re.I|re.S)"
   ]
  },
  {
   "cell_type": "code",
   "execution_count": 56,
   "id": "e6134606-4576-468e-bccc-347a2a6d7fa7",
   "metadata": {},
   "outputs": [
    {
     "data": {
      "text/plain": [
       "[('rum', 'un', ' ', 'hain', 'ce'),\n",
       " ('fransızlar', 'ın', ' ', 'barbar', ''),\n",
       " ('ermeniler', 'in', ' bu durmaz ', 'barbar', '')]"
      ]
     },
     "execution_count": 56,
     "metadata": {},
     "output_type": "execute_result"
    }
   ],
   "source": [
    "re.findall(r'(rum|fransızlar|ermeniler)(un|ın|in)(.*?)(hain|barbar)(ce|ca)?', \"bu rumun haince tutumlarından ötürü ve fransızların barbar yaklaşımları ve ermenilerin bu durmaz barbar bizi yordu.\")"
   ]
  },
  {
   "cell_type": "code",
   "execution_count": 243,
   "id": "4f3ee428-2d7b-4d76-b490-c3e3d00a4333",
   "metadata": {},
   "outputs": [
    {
     "data": {
      "text/plain": [
       "[('ermeni', 'ci'), ('yunan', 'cı')]"
      ]
     },
     "execution_count": 243,
     "metadata": {},
     "output_type": "execute_result"
    }
   ],
   "source": [
    "re.findall(r\"(rum|ermeni|yunan)(?!istan|stan)(cı|ci|çi|cu|cü|çü)\\sterör\\sörgütü\", \"ermenici terör örgütünde değil onlar, bildiğin yunancı terör örgütü gibi saldırıyorlar\")"
   ]
  },
  {
   "cell_type": "code",
   "execution_count": 246,
   "id": "bdf02704-bcdd-4abd-847d-89b28d68f964",
   "metadata": {},
   "outputs": [
    {
     "data": {
      "text/plain": [
       "[('ermeni', 'lik', ' de ', 'yap')]"
      ]
     },
     "execution_count": 246,
     "metadata": {},
     "output_type": "execute_result"
    }
   ],
   "source": [
    "pattern = r\"\\s(rum|ermeni|yunan)(?!istan|stan)(lık|lik|luk|lük)(.*?)(yap)\"\n",
    "re.findall(pattern, \"bu caniler yorumluk da yapar ermenilik de yapar.\", flags=re.I)"
   ]
  },
  {
   "cell_type": "code",
   "execution_count": 251,
   "id": "60608f3f-fd4c-40a4-9fc2-9299b6b9b8b7",
   "metadata": {},
   "outputs": [
    {
     "data": {
      "text/plain": [
       "[('rum', '', 'yunan', 'lığını', ' ', 'yap')]"
      ]
     },
     "execution_count": 251,
     "metadata": {},
     "output_type": "execute_result"
    }
   ],
   "source": [
    "pattern = r\"\\s(rum|ermeni|yunan)(?!istan|stan)(.*?)\\s(rum|ermeni|yunan)(?!istan|stan)(?!istan|stan)(lığını|liğini|luğunu|lüğünü)(.*?)(yap)\"\n",
    "re.findall(pattern, \"bu böyledir beyler rum yunanlığını yapar vazgeçmez.\", flags=re.I)"
   ]
  },
  {
   "cell_type": "code",
   "execution_count": 71,
   "id": "39a439fa-9f04-4c3e-9357-c292ac19a878",
   "metadata": {},
   "outputs": [
    {
     "data": {
      "text/html": [
       "<div>\n",
       "<style scoped>\n",
       "    .dataframe tbody tr th:only-of-type {\n",
       "        vertical-align: middle;\n",
       "    }\n",
       "\n",
       "    .dataframe tbody tr th {\n",
       "        vertical-align: top;\n",
       "    }\n",
       "\n",
       "    .dataframe thead th {\n",
       "        text-align: right;\n",
       "    }\n",
       "</style>\n",
       "<table border=\"1\" class=\"dataframe\">\n",
       "  <thead>\n",
       "    <tr style=\"text-align: right;\">\n",
       "      <th></th>\n",
       "      <th>id</th>\n",
       "      <th>date</th>\n",
       "      <th>pub_name</th>\n",
       "      <th>type</th>\n",
       "      <th>title</th>\n",
       "      <th>content</th>\n",
       "      <th>Label</th>\n",
       "      <th>sentences</th>\n",
       "      <th>text</th>\n",
       "      <th>phase</th>\n",
       "    </tr>\n",
       "  </thead>\n",
       "  <tbody>\n",
       "    <tr>\n",
       "      <th>731</th>\n",
       "      <td>734</td>\n",
       "      <td>07 Mart 2016 Pazartesi</td>\n",
       "      <td>ayrıntılı haber</td>\n",
       "      <td>Yerel</td>\n",
       "      <td>aslanların payları tehlikeye girince</td>\n",
       "      <td>aslanların payları tehlikeye girince yirmi yıl...</td>\n",
       "      <td>hate</td>\n",
       "      <td>[aslanların payları tehlikeye girince yirmi yı...</td>\n",
       "      <td>aslanların payları tehlikeye girince aslanları...</td>\n",
       "      <td>train</td>\n",
       "    </tr>\n",
       "    <tr>\n",
       "      <th>5773</th>\n",
       "      <td>5801</td>\n",
       "      <td>15 Ocak 2018 Pazartesi</td>\n",
       "      <td>batı akdeniz gazetesi</td>\n",
       "      <td>yerel</td>\n",
       "      <td>chp bildiğiniz gibi</td>\n",
       "      <td>av. ramazan yıldırım chp bildiğiniz gibi değer...</td>\n",
       "      <td>hate</td>\n",
       "      <td>[ramazan yıldırım chp bildiğiniz gibi değerli ...</td>\n",
       "      <td>chp bildiğiniz gibi ramazan yıldırım chp bildi...</td>\n",
       "      <td>train</td>\n",
       "    </tr>\n",
       "    <tr>\n",
       "      <th>9220</th>\n",
       "      <td>9261</td>\n",
       "      <td>11 Haziran 2019 Salı</td>\n",
       "      <td>yeni dönem</td>\n",
       "      <td>yerel</td>\n",
       "      <td>rumlara bak sen</td>\n",
       "      <td>rumlara bak sen! kıbrıs rum yönetimi, doğu akd...</td>\n",
       "      <td>hate</td>\n",
       "      <td>[rumlara bak sen kıbrıs rum yönetimi doğu akde...</td>\n",
       "      <td>rumlara bak sen rumlara bak sen kıbrıs rum yön...</td>\n",
       "      <td>train</td>\n",
       "    </tr>\n",
       "    <tr>\n",
       "      <th>10567</th>\n",
       "      <td>10611</td>\n",
       "      <td>07 Kasım 2019 Perşembe</td>\n",
       "      <td>hamle niğde</td>\n",
       "      <td>yerel</td>\n",
       "      <td>bende virüs var</td>\n",
       "      <td>durmuş göktekin bende virüs var! bakıyorum hay...</td>\n",
       "      <td>hate</td>\n",
       "      <td>[durmuş göktekin bende virüs var bakıyorum hay...</td>\n",
       "      <td>bende virüs var durmuş göktekin bende virüs va...</td>\n",
       "      <td>train</td>\n",
       "    </tr>\n",
       "    <tr>\n",
       "      <th>11250</th>\n",
       "      <td>11294</td>\n",
       "      <td>04 Ocak 2019 Cuma</td>\n",
       "      <td>gazete ipekyol</td>\n",
       "      <td>yerel</td>\n",
       "      <td>hak ehlinin hüznü</td>\n",
       "      <td>hak ehli nin huznu ceviz at l/l t. bir arkadaş...</td>\n",
       "      <td>hate</td>\n",
       "      <td>[hak ehli nin huznu ceviz at ll, bir arkadaşım...</td>\n",
       "      <td>hak ehlinin hüznü hak ehli nin huznu ceviz at ...</td>\n",
       "      <td>train</td>\n",
       "    </tr>\n",
       "    <tr>\n",
       "      <th>13588</th>\n",
       "      <td>13636</td>\n",
       "      <td>24 Mayıs 2016 Salı</td>\n",
       "      <td>türkiye</td>\n",
       "      <td>Ulusal</td>\n",
       "      <td>nerde eski tatlar</td>\n",
       "      <td>sorduk ustasına, anlattı. nenle eski tatlar ir...</td>\n",
       "      <td>not_hate</td>\n",
       "      <td>[sorduk ustasına anlattı, nenle eski tatlar ir...</td>\n",
       "      <td>nerde eski tatlar sorduk ustasına anlattı nenl...</td>\n",
       "      <td>train</td>\n",
       "    </tr>\n",
       "    <tr>\n",
       "      <th>18408</th>\n",
       "      <td>18456</td>\n",
       "      <td>15 Ocak 2018 Pazartesi</td>\n",
       "      <td>yeni asır</td>\n",
       "      <td>Ulusal</td>\n",
       "      <td>bay kemalin soykırımcı başkanı</td>\n",
       "      <td>canan kaftana oğlu pntc-an '• tarihte bugün: e...</td>\n",
       "      <td>not_hate</td>\n",
       "      <td>[canan kaftana oğlu pntcan tarihte bugün ermen...</td>\n",
       "      <td>bay kemalin soykırımcı başkanı canan kaftana o...</td>\n",
       "      <td>train</td>\n",
       "    </tr>\n",
       "  </tbody>\n",
       "</table>\n",
       "</div>"
      ],
      "text/plain": [
       "          id                    date               pub_name    type  \\\n",
       "731      734  07 Mart 2016 Pazartesi        ayrıntılı haber   Yerel   \n",
       "5773    5801  15 Ocak 2018 Pazartesi  batı akdeniz gazetesi   yerel   \n",
       "9220    9261    11 Haziran 2019 Salı             yeni dönem   yerel   \n",
       "10567  10611  07 Kasım 2019 Perşembe            hamle niğde   yerel   \n",
       "11250  11294       04 Ocak 2019 Cuma         gazete ipekyol   yerel   \n",
       "13588  13636      24 Mayıs 2016 Salı                türkiye  Ulusal   \n",
       "18408  18456  15 Ocak 2018 Pazartesi              yeni asır  Ulusal   \n",
       "\n",
       "                                      title  \\\n",
       "731    aslanların payları tehlikeye girince   \n",
       "5773                    chp bildiğiniz gibi   \n",
       "9220                        rumlara bak sen   \n",
       "10567                       bende virüs var   \n",
       "11250                     hak ehlinin hüznü   \n",
       "13588                     nerde eski tatlar   \n",
       "18408        bay kemalin soykırımcı başkanı   \n",
       "\n",
       "                                                 content     Label  \\\n",
       "731    aslanların payları tehlikeye girince yirmi yıl...      hate   \n",
       "5773   av. ramazan yıldırım chp bildiğiniz gibi değer...      hate   \n",
       "9220   rumlara bak sen! kıbrıs rum yönetimi, doğu akd...      hate   \n",
       "10567  durmuş göktekin bende virüs var! bakıyorum hay...      hate   \n",
       "11250  hak ehli nin huznu ceviz at l/l t. bir arkadaş...      hate   \n",
       "13588  sorduk ustasına, anlattı. nenle eski tatlar ir...  not_hate   \n",
       "18408  canan kaftana oğlu pntc-an '• tarihte bugün: e...  not_hate   \n",
       "\n",
       "                                               sentences  \\\n",
       "731    [aslanların payları tehlikeye girince yirmi yı...   \n",
       "5773   [ramazan yıldırım chp bildiğiniz gibi değerli ...   \n",
       "9220   [rumlara bak sen kıbrıs rum yönetimi doğu akde...   \n",
       "10567  [durmuş göktekin bende virüs var bakıyorum hay...   \n",
       "11250  [hak ehli nin huznu ceviz at ll, bir arkadaşım...   \n",
       "13588  [sorduk ustasına anlattı, nenle eski tatlar ir...   \n",
       "18408  [canan kaftana oğlu pntcan tarihte bugün ermen...   \n",
       "\n",
       "                                                    text  phase  \n",
       "731    aslanların payları tehlikeye girince aslanları...  train  \n",
       "5773   chp bildiğiniz gibi ramazan yıldırım chp bildi...  train  \n",
       "9220   rumlara bak sen rumlara bak sen kıbrıs rum yön...  train  \n",
       "10567  bende virüs var durmuş göktekin bende virüs va...  train  \n",
       "11250  hak ehlinin hüznü hak ehli nin huznu ceviz at ...  train  \n",
       "13588  nerde eski tatlar sorduk ustasına anlattı nenl...  train  \n",
       "18408  bay kemalin soykırımcı başkanı canan kaftana o...  train  "
      ]
     },
     "execution_count": 71,
     "metadata": {},
     "output_type": "execute_result"
    }
   ],
   "source": [
    "data[data[\"text\"].str.contains(\"a bak sen\")]"
   ]
  },
  {
   "cell_type": "code",
   "execution_count": 77,
   "id": "6c5aab66-cc42-4435-ac75-9ee19cd35b88",
   "metadata": {},
   "outputs": [
    {
     "data": {
      "text/plain": [
       "array(['chp bildiğiniz gibi ramazan yıldırım chp bildiğiniz gibi değerli okurlar demokrasi ile yönetilen birden fazla siyası partilerin bulunduğu ülkelerde demokrasinin olmazsa olmazı muhalefet partileridir bir ülkede ıyı bir muhalefet partisi aynı zamanda partileri iktidarı dizginlemek iktidarın güç zehirlenmesini önlemek açısından son derece elzemdir aklı başında bir muhalefet sadece iktidarı eleştirmez aynı zamanda yol göstericidir de on beş yıllık ak parti iktidarı döneminde aklı başında bir muhalefetin olmaması ak parti için bir şans değildir eğer aklı başında bir muhalefet partisi olsa ıdı türkiyenin geldiği nokta çok daha farklı olabilirdi ülkemizin en hayatı en stratejik konularında bile iktidar ile masaya beraberce yumruk vuran bir muhalefet partisi elbette bu ülkenin çıkarları ıçm çok çok elzemdir belki chp düzelir yapıcı bir muhalefet yapar umuduna ne zaman kapılsak hep bir hayal kırıklığı yaşadık yukarıda yazdıklarımdan varmak istediğim yer sırasıdır chp nın dün istanbul il kongresi vardı büyük illerin kongreleri oralara aday gösterilen ve seçilen il başkanları bir partının ve liderinin aynasıdır aynı zamanda başta istanbul olmak üzere büyük iller bir partiyi iktidara taşıyan taşıyıcı kolonlardır yanı iktidara giden yollar büyük şehirlerden geçer büyük şehirlerin başlıcalarını alan partiler iktidara yürürler ak parti de iktidar giden yolu istanbul borçludur sayın erdoğanın belediye başkanlığına borçludur durum bu olunca özellikle istanbul gibi bir şehre kimin belediye başkanı adayı olacağı ya da istanbul kimin il başkanı olacağı çok çok önem arz eder yapılan tercihler aynı za netılen manda bir partinin ve özellikle siyası liderinin ığu ül nerede durduğunun ve niyetinin de bir göstermuha gesıdır ts tl manda bir partinin ve özellikle siyası liderinin nerede durduğunun ve niyetinin de bir göstergesidir dün yapılan kongrede il başkanlığına canan kaftanoğlu isminde bir hanımefendi seçildi seçildi seçilmesine de il başkanlığına gelmesi kadar attığı tweıtlerler de enteresan bir tıp olduğu ortaya çıktı chpnm yeni istanbul il başkanında ne ararsan var tabı kı millilik ve yerlılık hariç baksanıza attığı tweıtlere bir paylaşımında tarihte bugün ermeni soykırımı başladı katledilen ermeni vatandaşlarımızı anıyoruz tam bir ermeni dıesporası ağzı temmuz içinde alın size nur topu gibi bir mağduriyet diye tweıt atmış bir başka tweıtınde de tayyıp erdoğan neredesin allah belanı versin bir başka zaman sahi devlet katıl olmak yerme kahraman olmayı seçseydı ne güzel olurdu yine bir başka twetmde ise chpyı bdp ile aynı yola girdi diye eleştiren gerzekler yol doğru yol ona bak sen diye paylaşım yapmıştır diyeceğim kı yeni il başkanınca yok yok ermeni seviciliğinden bdp seviciliğine erdoğan nefretinden temmuz şehitlerine kın ve nefrete kadar teweıtlerınden anlaşıldığına göre de su götürmez katıksız bir ateist kısaca yerli ve milli olmayan her düşünceye kapılarını ardına kadar açmış bir başkanı var chp lı istanbulluların artık kılıçdaroğluna da bu yakışırdı bulmuş kendisi gibi bir ucubeyi ne diyelim artık bu saatten sonra bize de şunu demek düşer chp bildiğiniz gibi sağlıcakla kalın değerli okurlar haftaya görüşmek üzere'],\n",
       "      dtype=object)"
      ]
     },
     "execution_count": 77,
     "metadata": {},
     "output_type": "execute_result"
    }
   ],
   "source": [
    "data.query(\"id == 5801\").text.values"
   ]
  },
  {
   "cell_type": "code",
   "execution_count": 236,
   "id": "2c3802be-f6a6-4911-bad0-9dde19ed4a38",
   "metadata": {},
   "outputs": [],
   "source": [
    "general_rules = [\n",
    "    r\"[IRK](lık|lik|luk|lük)(.*?)(yap)\",\n",
    "    r\"[IRK_KIMLIK](?!istan|stan)(.*?)(skandalı)\",\n",
    "    r\"[KIMLIK](?!istan|stan)(.*?)(işgali)\",\n",
    "    r\"[IRK_KIMLIK](?!istan|stan)(a|e)\\s(bak sen)\",\n",
    "    r\"[IRK](?!istan|stan)(.*?)(işgali)\",\n",
    "    r\"[IRK](?!istan|stan)(.*?)[IRK](?!istan|stan)(lığını|liğini|luğunu|lüğünü)(.*?)(yap)\",\n",
    "    r\"[IRK](?!istan|stan)(ın|in|un|ün)(.*?)(uşağı|işbirlikçisi|piyonu|kuklası)(.*?)[IRK](?!istan|stan)\",\n",
    "    r\"[IRK](?!istan|stan)(ın|in|un|ün)(.*?)(hain|vahşi|insanlık dışı|hunharca|kan donduran|şeytani|sinsi|teşebbüsleri|planları|oluşumları)\",\n",
    "    r\"[IRK](?!istan|stan)(.*?)(kurşunlarıyla|bombalarıyla|parasıyla)\",\n",
    "    r\"[IRK](?!istan|stan)(ın|in|un|ün)(.*?)(gerçekleştirdiği|yaptığı)(.*?)(katliam|zulüm|soykırım)\",\n",
    "    r\"[IRK](?!istan|stan)\\s(tarafından)\\s(gerçekleştirilen|yapılan)(.*?)(saldırılar|katliam|zulüm|soykırım)\",\n",
    "    r\"[IRK](?!istan|stan)\\s(tarafından)\\s[IRK](?!istan|stan)(a|e)(yönelik)?(.*?)(saldırılar|katliam|zulüm|soykırım)\",\n",
    "    r\"[IRK](?!istan|stan)\\s(tarafından)(.*?)(saldırıya|katliama|zulme|soykırıma)(.*?)(maruz kal|uğra)\",\n",
    "    r\"[IRK]\\s(destekli)(.*?)[IRK](?!istan|stan)(darbesi|saldırıları|katliamı|soykırımı)\",\n",
    "    r\"[IRK](?!istan|stan)(.*?)(öldürdü|katletti|etnik temizlik yaptı|kirletti|bastı|şehit etti)\",\n",
    "    r\"[IRK](?!istan|stan)\\s(tarafından)(.*?)(öldürüldü|katledildi|basıldı|şehit edildi)\"  \n",
    "]"
   ]
  },
  {
   "cell_type": "code",
   "execution_count": null,
   "id": "c6ab6cda-1a2f-4fb6-b820-3a4f9650b508",
   "metadata": {},
   "outputs": [],
   "source": []
  },
  {
   "cell_type": "code",
   "execution_count": 114,
   "id": "1b73b75b-7c6f-43b4-ae12-026b77f9523f",
   "metadata": {},
   "outputs": [],
   "source": [
    "turkish_to_latin_map = {ord(\"ü\"): \"u\", ord(\"ö\"): \"o\", ord(\"ı\"): \"i\", ord(\"ğ\"): \"g\", ord(\"ş\"): \"s\", ord(\"ç\"): \"c\"}"
   ]
  },
  {
   "cell_type": "code",
   "execution_count": 143,
   "id": "27b49ea0-c991-4430-b402-a15fc4337686",
   "metadata": {},
   "outputs": [
    {
     "data": {
      "text/plain": [
       "'\\\\s(afgan|afganlar|arap|araplar|bulgar|bulgarlar|cingene|cingeneler|cinli|cinliler|ermeni|ermeniler|ezidi|yezidiler|ezidiler|ingiliz|ingilizler|irakli|iraklilar|iranli|iranlilar|italyan|italyanlar|kirgiz|kirgizlar|kurt|kurtler|kurt|kurd|kurdler|kurtler|lubnanli|lubnanlilar|macar|macarlar|musevi|museviler|pakistanli|paki|pakiler|pakistanlilar|rum|rumlar|rus|moskof|ruslar|sirp|sirpli|sirplilar|sirplar|suriyeli|suri|suriler|suriyeliler|suryani|suryaniler|turkmen|turkmenler|yahudi|yahudiler|yemenli|yemenliler|yezid|yezit|yezitler|yezidler|yunan|yunanli|yunanlilar|yunanlar)(?!istan|stan|ya)(in|in|un|un)\\\\s(\\\\w*)\\\\s?(usagi|isbirlikcisi|piyonu|kuklasi)(\\\\w*)\\\\s(afgan|afganlar|arap|araplar|bulgar|bulgarlar|cingene|cingeneler|cinli|cinliler|ermeni|ermeniler|ezidi|yezidiler|ezidiler|ingiliz|ingilizler|irakli|iraklilar|iranli|iranlilar|italyan|italyanlar|kirgiz|kirgizlar|kurt|kurtler|kurt|kurd|kurdler|kurtler|lubnanli|lubnanlilar|macar|macarlar|musevi|museviler|pakistanli|paki|pakiler|pakistanlilar|rum|rumlar|rus|moskof|ruslar|sirp|sirpli|sirplilar|sirplar|suriyeli|suri|suriler|suriyeliler|suryani|suryaniler|turkmen|turkmenler|yahudi|yahudiler|yemenli|yemenliler|yezid|yezit|yezitler|yezidler|yunan|yunanli|yunanlilar|yunanlar)(?!istan|stan|ya)\\\\s'"
      ]
     },
     "execution_count": 143,
     "metadata": {},
     "output_type": "execute_result"
    }
   ],
   "source": [
    "\"\\s(afgan|afganlar|arap|araplar|bulgar|bulgarlar|çingene|çingeneler|çinli|çinliler|ermeni|ermeniler|ezidi|yezidiler|ezidiler|ingiliz|ingilizler|ıraklı|ıraklılar|iranlı|iranlılar|italyan|italyanlar|kırgız|kırgızlar|kurt|kurtler|kürt|kürd|kürdler|kürtler|lübnanlı|lübnanlılar|macar|macarlar|musevi|museviler|pakistanlı|paki|pakiler|pakistanlılar|rum|rumlar|rus|moskof|ruslar|sırp|sırplı|sırplılar|sırplar|suriyeli|suri|suriler|suriyeliler|süryani|süryaniler|türkmen|türkmenler|yahudi|yahudiler|yemenli|yemenliler|yezid|yezit|yezitler|yezidler|yunan|yunanlı|yunanlılar|yunanlar)(?!istan|stan|ya)(ın|in|un|ün)\\s(\\w*)\\s?(uşağı|işbirlikçisi|piyonu|kuklası)(\\\\w*)\\\\s(afgan|afganlar|arap|araplar|bulgar|bulgarlar|çingene|çingeneler|çinli|çinliler|ermeni|ermeniler|ezidi|yezidiler|ezidiler|ingiliz|ingilizler|ıraklı|ıraklılar|iranlı|iranlılar|italyan|italyanlar|kırgız|kırgızlar|kurt|kurtler|kürt|kürd|kürdler|kürtler|lübnanlı|lübnanlılar|macar|macarlar|musevi|museviler|pakistanlı|paki|pakiler|pakistanlılar|rum|rumlar|rus|moskof|ruslar|sırp|sırplı|sırplılar|sırplar|suriyeli|suri|suriler|suriyeliler|süryani|süryaniler|türkmen|türkmenler|yahudi|yahudiler|yemenli|yemenliler|yezid|yezit|yezitler|yezidler|yunan|yunanlı|yunanlılar|yunanlar)(?!istan|stan|ya)\\s\".translate(turkish_to_latin_map)"
   ]
  },
  {
   "cell_type": "code",
   "execution_count": 168,
   "id": "343f6f49-f420-4d40-b89f-bdd2fb03ce5e",
   "metadata": {},
   "outputs": [
    {
     "data": {
      "text/plain": [
       "[('yunan',\n",
       "  'cumhurbaskani ege de isgal ettikleri adamiza cikti adamizi isgal ettiler ustune bir de sov yaptilar yunan cumhurbaskani egede isgal ettikleri adamiza akti iktidar sustukca yunan iyice aziyor bodrumun karsisindaki turkiyeye ait keci adasina giden cumhurbaskani yunan askerlerini denetiedi adaya yunan bayragi cektiler daha once adamizin',\n",
       "  'isgali'),\n",
       " ('yunan',\n",
       "  'durmuyor ada mugla ya bagli ama yunanistan cumhurbaskani ve baskomutani pavlopulos gecen sali turkiyeye ait olan ancak isgal altindaki keci adasina gitti yunan bayraginin dalgalandigi adada askerlerine moral ve plaket verdi saygi ozturkun haberi da bodrum isgal ettikleri adamiza bir de kilise yaptilar yunan cumhurbaskani turkiyeye karsi askeri yiginak yapi lan bolgeleri gezdi onun icin kilise onunde toren yapildi ligi ip is mi inliili daha once adamizin',\n",
       "  'isgali'),\n",
       " ('yunan',\n",
       "  'cumhurbaskani turkiyeye karsi askeri yiginak yapi kalimnos adasina gitti buradan askeri botla turkiyenin keci adasina gecti an bolgeleri gezdi onun icin kilise onunde toren yapildi adasjbsbistankoy yunan cumhurbaskani isgal altindaki adamizi ziyaret etti egede tahrik zirvede kendi sularimizdaki adanin yunanistan tarafindan isgal edildig bir kez daha kanitlandi cumhurbaskani pavlopulos baskomutan sifatiyla muglaya bagli keci adasina gitti saye oztjrk bodrum asadece miluzakuctaii emekli kurmay albay umit yalim mugla keci adasimn millik turk karasulari icinde oldugunu soyledi yalim ada hakkinda su bilgileri verdi bodruma olan mesafesi mil keci adasi istanbuldaki buyukadanm iki misli buyuklukte adanin her tarafinda yunan bayragi dalgalaniyor adaya yunan askerleri ile birlikte top ve ucaksavai gibi agir silahlar yerlestirilmis keci adasi silah ve muhimmat deposu haline getirilerek ueri karakol haline donusturulmus ardak krizinin ardindan ege denizindeki adanin yunanistan tarafindan isgal edilmesinin yankilan surerken bir skandal daha yasandi yunanistan cumhurbaskani prokopis pavlopulosun gecen sali gunu muglaya bagli keci adasim ziyaret ettigi ortaya ciktl yunan silahli kuvvetleri tarafindan isgal edilen adamizdan birisi olan keci adasinda yunanistan bayragi dalgalanirken turk yetkilileri bu konuda da sessiz kaldi sozde vahye plaket bile verdi ziyaretin goruntuleri yunanistan basininda yer aldi goruntulerin basinda prokopis pavlopulos bakanlar ve askeri yetkililer once kalimnos adasinda goruluyor yunan heyeti daha sonra askeri botla keci adasina geciyor cumhurbaskani ve baskomutan sifatiyla adaya ayak basan pavlopulos askeri tahkimat yapilan kale bolgesine de gitti genelkurmay baskam ue birlikte isgalci yunan askerlerini denetledi pavlopulos adada yaptirilan kilisenin onunde adalar valisi tuggeneral sergentaniye plaket verdi bu durum adalarimiz ilhak edildigi gibi yunanistanin atadigi askeri valilerin yonetimine terk edilmis yorumlarina neden oldu pavlopulos kendi basinina keci adasimn yunan sinirlan icinde oldugunu iddia etti yunan cumhurbaskani adada turkiyenin lozan antlasmasina yunanistanin sinirlarina ve toprak butunlugune saygi duymasini istedi tsknin gorevi engelleniyor milli savunma bakanligi eski genel sekreteri emekli kurmay albay umit yalim skandalla ilgili konustu yalim lozan antlasmasina gore basta keci adasi olmak uzere yunan',\n",
       "  'isgali')]"
      ]
     },
     "execution_count": 168,
     "metadata": {},
     "output_type": "execute_result"
    }
   ],
   "source": [
    "sample_text = \"ve atatürksuriyelileradalet mi selam ve saygılar sevgili bayram ve isparta okullar ve atatürksuriyelileradalet mi selam ve saygılar sevgili gönül dostlarım kurban bayramı sebebi ile geçtiğimiz hafta yazıma ara verdim geçmiş kurban bayramınız kutlu olsun sağlıkla nice bayramları sevdiklerinizle yaşamayı mevlam nasip etsin tabii ki eski bayramlar daha farklı kutlanırdı bu sene tatil güne çıkınca bayram olarak değil tatil olarak geçti bir çoğumuz bayram ziyareti yerine soluğu sahilde aldık ne de olsa sırtımızda ki beynimizde ki maddi ve manevi yük bizleri oldukça yordu gelecekte eski bayramlarla ilgili yazılarım olur ne yazık ki bu bayram da trafik canavarı iş başında idi yaklaşık vatandaşı mız trafik kazalarında can verdi giden canların yanı sıra yaralılar ve maddi kayıplar yol denetimlerinde bayram tatili yapamayan emniyet ve asker görevlilere teşekkürler ederim her ne kadar iktidar trafik anarşisinin azaldığı için mutlu oluyorsa da aslında hiç olmamalı idi trafik kazalarında yorgunluk uykusuzluk dikkatsizlik yolların bozuk olması araçlarda bakım eksikliği rol oynuyorsa da esas olan kural tanımamak ve aceleci olmak bu arada bayram öncesi biteceği söylenen migros kavşağı alt üst geçit inşaatı yılan hikayesine döndü halen de devam ediyor isparta da akp liler iktidarlarındaki yatırımları anlatamamaktan dertliler işte örnek ortada karayollarının yaptığı çevre yolu senede bitti ama hala yama ile tamir ediliyor müze bakımına daha başlanmadı müze ziyareti tatilde demiryolları bakımı bitmedi ankara izmir istanbul tren seferleri hala rüya antalya ve konya yollarının duble yolları halen inşaat durumunda yarım veya başlanılmayan bir çok yatırım sahi toki nin emekli ve engelliler için yapacağı evler ne alemde üzerinden seçim ve oylama geçti oy sezonunda gündeme geliyor sonra proje rafa isparta cezalı sanki isparta nın milletvekilinden si akp li bakanlık bile bize düşmedi isparta belediyemiz yazdır atatürk parkı nı tadilatla geçiriyor inşallah baharında ve sonrası faaliyete geçer de bizler çay içme fırsatı buluruz sevgili gönül dostlarım haftaya okullar açılacak artık aileleri kışa hazırlık ve okul telaşları içindeler milli eğitim bakanlığı geçmişte and ımızı ve derslerde de vatan bayrak cumhuriyet küpe takan saç uzatan bir genç otobüse biner yaşlı teyze kızım kenara geçer misin der cenç iteyzecim ben kız değilim der ve anda teyze bombayı patlatır vah yavrum bu yaşta dul mu kaldın şehit gazi konularını kısıtlamıştı bu senede iktidarda ki akp nin milli eğitim bakanı atatürk atatürk ilke ve inkilapları atatürkçülük konularını sınıfa kadar müfredattan çıkardı beden eğitimi dersinde atatürkçülük işlenecekmiş aslında her ders te atatürk vardır lütfen bu konuda duyarlı olalım cumhuriyetimiz kurucusu kurtuluş savaşı komutanı mustafa kemal atatürk çocuklarımıza biz anlatalım milli değerleri evlatlarımıza kazandırmak artık ailelere bir görev imam hatip liselerine karşı değilim bu vesile ile de meslek liselerini savunuyorum imam hatip lisesi ticaret meslek lisesi kız meslek lisesi endüstri meslek lisesi eğitimin temel taşlarıdır ayırımcılık yaparak proje okulu seçilen imam hatip lisesi öğrencilerine verilecek aylık tl lik burs diğer okullarda da pilot okul statüsü ile verilemez mi bu arada suriye lilere vatandaşlık verilmeye başladı atanamayan birçok öğretmen gençlerimiz var iken suriyeli öğretmenleri atamak vicdanlara uygun mu yavaş yavaş tıp başta olmak üzere diğer mesleklerde de atamalar yolda vatandaşlık için sıkıntı evli ve fazla çocukları olması imiş bu sebeble belki ülkemizde çok evlilikte yasallaşır kuma kavgaları zaman kalkar sevgili gönül dostları da temmuz ihtilal denemesini yaşadık ölenler ve yaralananlar oldu tabii ki suçlu olanlar cezasını çekecek ama kurunun yanında yaş yakmayalım kurban bayramı öncesi meslekten fıkra zamanı minik kız elinde karnesiyle eve gelmiş karnesini babasına göstermiş babası bir bakmış baştan aşağı pekiyi bir iki tane de iyi var yalnız öğretmen karnenin altına şöyle bir not düşmüş çok akıllı ve yetenekli bir çocuk fakat bir kusuru var derste çok konuşuyor buna nasıl son verebileceğimiz hakkında fikirlerim var en kısa zamanda siz velisiyle de paylaşmak istiyorum baba bunun üzerine karneyi imzalamış ve öğretmenin görüşlerinin altına bir not düşmüş lütfen paylaşalım çünkü işe yararsa ben de annesine uygulayacağım aşk olsun ihraç edilen sağlıkçı bir bayanın intiharı yürekleri burktu mevlam günahlarını afetsin her yerde olan bu fetö cüler niye siyasette hele akp nin içinde yok bilinmezliği çözemedim hapishaneler dolu olunca çeşitli sebeblerle af uygulanmaya başladı tl lik taahüt ihlali kapalı cezaevinde ay hapis yatmayı gerektiriyor başka suçtan olan ise yıl affa uğruyor adalet bu galiba kurban bayramı öncesi vatan şaşmaz cinayeti türkiyenin gündemine oturdu sanki başka cinayetler yoktu yasak aşk cinayeti basına sakız oldu ne yazık ki ülkemde gündeme taşınacak konular bazen basın tarafından ört bas ediliyor yunan işgalinde ki ada gündem de mi kuzey ırak ta referandum niye cinayet kadar konuşul muyor tartışıl mıyor iktidar da ki akp nin ab ve abd ile restleşmesi niye basında bolca yer almıyor sevgili gönül dostlarım bir sonraki yazımda buluşmak üzere şen ve esen kalınız saygılarımla yiğitçe koray başyiğit tvvitter korayhoca instagram mustafa koray başyiğit ol atssn güneş orda re bozulmuş düşttgnlar yel gibi yaşa hlllafua kemal paşa yaaadtyrılacak yaşa mustafa amnuıl pnşn ymjuyııjln yaşılaemk mflpnrflf izmirin dağlanattn ataraum kaldım şehit olanları defin yazdım öksüz yavrularıpağrıma bastım kemal paşa yaşmadın yazılacak mücevher brmtgmal paşa yaşaadın yazılacak müavheflm\".translate(turkish_to_latin_map)\n",
    "sample_text2 = \"yahudiler mescidi aksa ya girdi yahudiler mescidi aksaya girdi yüzlerce fanatik yahudi girmeleri yasak olan mescidi aksanın avlusunu işgal etti kudüste son tahrik fanatik yahudiler mescidi aksaya girdi israil bölgede gerginliğin artması için her yolu deniyor yahudi yerleşimci girmeleri yasak olan mescidi aksanın avlusunu işgal etti olaya tepki gösteren filistinli çocuk gözaltına alındı milletvekili baskına onculuk etti israilli aşın sağcı milletvekili yehuda glick de yerleşimciler ile birlikte mescidi aksaya girdi baskında ise filistinlilerin arandığı ve kimlik kartlarına el konulduğu iddia ediidi israilin yüdır ablukada tuttuğu gazze şeridinde filistinlinin öldüğü kişinin ise yaralandığı saldırıların ardından dün kudüste yeni bir gerginlik yaşandı kadar yahudi yerleşimci mescidi aksanın bulunduğu alanda birinci ve ikinci tapınakın yıkımını anmak amacıyla bölgeyi işgal etti yahudi yerleşimciler heykelin yıkımı adlı bayramlarının münasebetiyle girmeleri yasak olan mescidi aksaya israil ordusu ve polis eşliğinde girdi fas kapısından caminin avlusuna giren yerleşimcilere filistinli bir genç bayrak açarak tepki gösterdi bu sırada israil ordusu filistinli genci gözaltına aldı yahudi yerleşimcilerin hamas üe israil arasında dün sağlanan kırılgan ateşkes sonrası müslümanların kutsal alanına girmesi ise provokasyon olarak nitelendirildi mescidi aksanın kontrolünü elinde bulunduran ürdün de yahudi yerleşimcilerin haksiz işgalini kınadı sınır açılabilir öte yandan israil savunma bakam avigdor liebermann düzenlenen gösteriler nedeniyle temmuzdan bu yana kapalı tutulan gazze sınır kapılarının yeniden açılabileceği sinyalini verdi liebermann pazar ve pazartesi günleri sakin geçtiği takdirde kerem şalom sınır kapısı salı günü normal faaliyetlerine yeniden başlayacak diye konuştu\".translate(turkish_to_latin_map)\n",
    "sample_text3 = \"yunan cumhurbaşkanı ege de işgal ettikleri adamıza çıktı adamızı işgal ettiler üstüne bir de şov yaptılar yunan cumhurbaşkanı egede işgal ettikleri adamıza aktı iktidar sustukça yunan iyice azıyor bodrumun karşısındaki türkiyeye ait keçi adasına giden cumhurbaşkanı yunan askerlerini denetiedi adaya yunan bayrağı çektiler daha önce adamızın işgaline sessiz kalan ankaradan çıt yok yunanistan cumhurbaşkanı prokopis pavlopulos gün önce helikopterle kalimnos adasına gitti buradan askeri botla türkiyenin keçi adasına geçti türkiye ege denizinde adeta hezimet yaşıyor yunanistan adamızı akpnin yıllık iktidarında sessizce işgal etti buralara asker ve silah yığdı bayrağım dikti türkiye ise sadece seyretti ancak yunan durmuyor ada muğla ya bağlı ama yunanistan cumhurbaşkanı ve başkomutanı pavlopulos geçen salı türkiyeye ait olan ancak işgal altındaki keçi adasına gitti yunan bayrağının dalgalandığı adada askerlerine moral ve plaket verdi saygı öztürkün haberi da bodrum işgal ettikleri adamıza bir de kilise yaptılar yunan cumhurbaşkanı türkiyeye karşı askeri yığınak yapı lan bölgeleri gezdi onun için kilise önünde tören yapıldı ligi ıp ış mi ınliılı daha önce adamızın işgaline sessiz kalan ankaradan çıt yok işgal ettikleri adamıza bir de kilise yaptılar yunanistan cumhurbaşkanı prokopis pavlopulos gün önce helikopterle yunan cumhurbaşkanı türkiyeye karşı askeri yığınak yapı kalimnos adasına gitti buradan askeri botla türkiyenin keçi adasına geçti an bölgeleri gezdi onun için kilise önünde tören yapıldı adasjbşbistanköy yunan cumhurbaşkanı işgal altındaki adamızı ziyaret etti egede tahrik zirvede kendi sularımızdaki adanın yunanistan tarafından işgal edildiğ bir kez daha kanıtlandı cumhurbaşkanı pavlopulos başkomutan sıfatıyla muğlaya bağlı keçi adasına gitti saye oztjrk bodrum asadece mıluzakuctaii emekli kurmay albay ümit yalım muğla keçi adasımn millik türk karasuları içinde olduğunu söyledi yalım ada hakkında şu bilgileri verdi bodruma olan mesafesi mil keçi adası istanbuldaki büyükadanm iki misli büyüklükte adanın her tarafında yunan bayrağı dalgalanıyor adaya yunan askerleri ile birlikte top ve uçaksavai gibi ağır silahlar yerleştirilmiş keçi adası silah ve mühimmat deposu haline getirilerek üeri karakol haline dönüştürülmüş ardak krizinin ardından ege denizindeki adanın yunanistan tarafından işgal edilmesinin yankılan sürerken bir skandal daha yaşandı yunanistan cumhurbaşkanı prokopis pavlopulosun geçen salı günü muğlaya bağlı keçi adasım ziyaret ettiği ortaya çıktl yunan silahlı kuvvetleri tarafından işgal edilen adamızdan birisi olan keçi adasında yunanistan bayrağı dalgalanırken türk yetkilileri bu konuda da sessiz kaldı sözde vahye plaket bile verdi ziyaretin görüntüleri yunanistan basınında yer aldı görüntülerin başında prokopis pavlopulos bakanlar ve askeri yetkililer önce kalimnos adasında görülüyor yunan heyeti daha sonra askeri botla keçi adasına geçiyor cumhurbaşkanı ve başkomutan sıfatıyla adaya ayak basan pavlopulos askeri tahkimat yapılan kale bölgesine de gitti genelkurmay başkam üe birlikte işgalci yunan askerlerini denetledi pavlopulos adada yaptırılan kilisenin önünde adalar valisi tuğgeneral sergentaniye plaket verdi bu durum adalarımız ilhak edildiği gibi yunanistanın atadığı askeri valilerin yönetimine terk edilmiş yorumlarına neden oldu pavlopulos kendi basınına keçi adasımn yunan sınırlan içinde olduğunu iddia etti yunan cumhurbaşkanı adada türkiyenin lozan antlaşmasına yunanistanın sınırlarına ve toprak bütünlüğüne saygı duymasını istedi tsknın görevi engelleniyor milli savunma bakanlığı eski genel sekreteri emekli kurmay albay ümit yalım skandalla ilgili konuştu yalım lozan antlaşmasına göre başta keçi adası olmak üzere yunan işgali altında olan toplam türk adası ve türk kayalığının türkiyenin egemenliği altında olduğunu söyledi yunan cumhurbaşkanı bakanlan ve komuta kademesinin elini kolunu sallayıp keçi adasına gittiğini belirten yalım tskmn görevini yapmasının engellendiği anlaşılıyor böylece türk adası ve türk kayalığının yunan askerine alenen teslim edildiği bir kez daha tescillenmiştir diye konuştu yunan cumhurbaşkanı işgal altındaki adamızı ziyaret etti egede tahrik zirvede kendi sularımızdaki adanın yunanistan tarafından işgal edildiğ bir kez daha kanıtlandı cumhurbaşkanı pavlopulos başkomutan sıfatıyla muğlaya bağlı keçi adasına gitti vyy tçardak krizinin ardından ege bjpvs ıtop nml ffintfntm nmi ili ti eş denizindeki adanın yu ij edilmesinin yankılan sürerken bir skandal daha yaşandı yuna ftfl ir nistan cumhurbaşkanı prokopis il pavlopulosun geçen salı günü muğlaya jft bağlı keçi adasım ziyaret ettiği ortaya çık jbi ii mbıı tı yunan silahlı kuvvetleri tarafından işgal jdüfc edilen adamızdan birisi olan keçi adasın jha da yunanistan bayrağı dalgalanırken türk yetkilileri bu konuda da sessiz kaldl ziyaretin görüntüleri yunanistan basınınyunan cumhurbaşkanı da yer aldı görüntülerin başında prokopis prokopis pavlopulos pavlopulos bakanlar ve askeri yetkililer önce paskeritörenl karşılandı kalimnos adasında görülüyor yunan heyeti daha sonra askeri botla keçi adasına geçiyor cumhurbaşkam ve başkomutan sıfatıyla adaya ayak basan pavlopulos askeri tahkimat bodrumasadece ljıj lkj nnm yapılan kale bölgesine de gitti genelkurmay tia ııı başkam üe birlikte işgalci yunan askerlerini mil uzakllinalfeii denetledi pavlopulos adada yaptırılan kilise emekli kurmay albay ümit yalım önünde adalar valisi tuğgeneral sergenta muğla keçi adasımn mitlik türk ka niye plaket verdi bu durum adalarımız ilhak rasulan içinde olduğunu söyledi yalım diği gibi yunanistanm atadığı askeri valile ada hakkında şu bilgileri verdi bod rin yönetimine terk edilmiş yorumlarına ne ruma olan mesafesi mil keçi adası den oldu pavlopulos kendi basınına keçi ada istanbuldaki büyükadanm iki misli sırrnı yunan sınırlan içinde olduğunu iddia büyüklükte adanın her tarafında yunan etti yunan cumhurbaşkam adada türkiyenin bayrağı dalgalanıyor adaya yunan as lozan antlaşmasına yunanistanın sınırlarına kerleri ile birlikte top ve uçaksavar gibi ve toprak bütünlüğüne saygı duymasını istedi ağır silahlar yerleştirilmiş keçi adası si lah ve mühimmat deposu haline getirile hlifspıhimi inıııiiuaaaauıiiım rek üeri karakol haline dönüştürülmüş müli savunma bakanlığı eski genel sekreteri\".translate(turkish_to_latin_map)\n",
    "sample_rule = r\"(yahudiler|yahudi|yunan)\\s(.*?)\\s?(isgali)\".translate(turkish_to_latin_map)\n",
    "re.findall(sample_rule, sample_text3, flags=re.I)"
   ]
  },
  {
   "cell_type": "code",
   "execution_count": 162,
   "id": "f1f24f89-e34d-4d10-a5a3-dff572795840",
   "metadata": {},
   "outputs": [
    {
     "data": {
      "text/plain": [
       "'yunan cumhurbaskani ege de isgal ettikleri adamiza cikti adamizi isgal ettiler ustune bir de sov yaptilar yunan cumhurbaskani egede isgal ettikleri adamiza akti iktidar sustukca yunan iyice aziyor bodrumun karsisindaki turkiyeye ait keci adasina giden cumhurbaskani yunan askerlerini denetiedi adaya yunan bayragi cektiler daha once adamizin isgaline sessiz kalan ankaradan cit yok yunanistan cumhurbaskani prokopis pavlopulos gun once helikopterle kalimnos adasina gitti buradan askeri botla turkiyenin keci adasina gecti turkiye ege denizinde adeta hezimet yasiyor yunanistan adamizi akpnin yillik iktidarinda sessizce isgal etti buralara asker ve silah yigdi bayragim dikti turkiye ise sadece seyretti ancak yunan durmuyor ada mugla ya bagli ama yunanistan cumhurbaskani ve baskomutani pavlopulos gecen sali turkiyeye ait olan ancak isgal altindaki keci adasina gitti yunan bayraginin dalgalandigi adada askerlerine moral ve plaket verdi saygi ozturkun haberi da bodrum isgal ettikleri adamiza bir de kilise yaptilar yunan cumhurbaskani turkiyeye karsi askeri yiginak yapi lan bolgeleri gezdi onun icin kilise onunde toren yapildi ligi ip is mi inliili daha once adamizin isgaline sessiz kalan ankaradan cit yok isgal ettikleri adamiza bir de kilise yaptilar yunanistan cumhurbaskani prokopis pavlopulos gun once helikopterle yunan cumhurbaskani turkiyeye karsi askeri yiginak yapi kalimnos adasina gitti buradan askeri botla turkiyenin keci adasina gecti an bolgeleri gezdi onun icin kilise onunde toren yapildi adasjbsbistankoy yunan cumhurbaskani isgal altindaki adamizi ziyaret etti egede tahrik zirvede kendi sularimizdaki adanin yunanistan tarafindan isgal edildig bir kez daha kanitlandi cumhurbaskani pavlopulos baskomutan sifatiyla muglaya bagli keci adasina gitti saye oztjrk bodrum asadece miluzakuctaii emekli kurmay albay umit yalim mugla keci adasimn millik turk karasulari icinde oldugunu soyledi yalim ada hakkinda su bilgileri verdi bodruma olan mesafesi mil keci adasi istanbuldaki buyukadanm iki misli buyuklukte adanin her tarafinda yunan bayragi dalgalaniyor adaya yunan askerleri ile birlikte top ve ucaksavai gibi agir silahlar yerlestirilmis keci adasi silah ve muhimmat deposu haline getirilerek ueri karakol haline donusturulmus ardak krizinin ardindan ege denizindeki adanin yunanistan tarafindan isgal edilmesinin yankilan surerken bir skandal daha yasandi yunanistan cumhurbaskani prokopis pavlopulosun gecen sali gunu muglaya bagli keci adasim ziyaret ettigi ortaya ciktl yunan silahli kuvvetleri tarafindan isgal edilen adamizdan birisi olan keci adasinda yunanistan bayragi dalgalanirken turk yetkilileri bu konuda da sessiz kaldi sozde vahye plaket bile verdi ziyaretin goruntuleri yunanistan basininda yer aldi goruntulerin basinda prokopis pavlopulos bakanlar ve askeri yetkililer once kalimnos adasinda goruluyor yunan heyeti daha sonra askeri botla keci adasina geciyor cumhurbaskani ve baskomutan sifatiyla adaya ayak basan pavlopulos askeri tahkimat yapilan kale bolgesine de gitti genelkurmay baskam ue birlikte isgalci yunan askerlerini denetledi pavlopulos adada yaptirilan kilisenin onunde adalar valisi tuggeneral sergentaniye plaket verdi bu durum adalarimiz ilhak edildigi gibi yunanistanin atadigi askeri valilerin yonetimine terk edilmis yorumlarina neden oldu pavlopulos kendi basinina keci adasimn yunan sinirlan icinde oldugunu iddia etti yunan cumhurbaskani adada turkiyenin lozan antlasmasina yunanistanin sinirlarina ve toprak butunlugune saygi duymasini istedi tsknin gorevi engelleniyor milli savunma bakanligi eski genel sekreteri emekli kurmay albay umit yalim skandalla ilgili konustu yalim lozan antlasmasina gore basta keci adasi olmak uzere yunan isgali altinda olan toplam turk adasi ve turk kayaliginin turkiyenin egemenligi altinda oldugunu soyledi yunan cumhurbaskani bakanlan ve komuta kademesinin elini kolunu sallayip keci adasina gittigini belirten yalim tskmn gorevini yapmasinin engellendigi anlasiliyor boylece turk adasi ve turk kayaliginin yunan askerine alenen teslim edildigi bir kez daha tescillenmistir diye konustu yunan cumhurbaskani isgal altindaki adamizi ziyaret etti egede tahrik zirvede kendi sularimizdaki adanin yunanistan tarafindan isgal edildig bir kez daha kanitlandi cumhurbaskani pavlopulos baskomutan sifatiyla muglaya bagli keci adasina gitti vyy tcardak krizinin ardindan ege bjpvs itop nml ffintfntm nmi ili ti es denizindeki adanin yu ij edilmesinin yankilan surerken bir skandal daha yasandi yuna ftfl ir nistan cumhurbaskani prokopis il pavlopulosun gecen sali gunu muglaya jft bagli keci adasim ziyaret ettigi ortaya cik jbi ii mbii ti yunan silahli kuvvetleri tarafindan isgal jdufc edilen adamizdan birisi olan keci adasin jha da yunanistan bayragi dalgalanirken turk yetkilileri bu konuda da sessiz kaldl ziyaretin goruntuleri yunanistan basininyunan cumhurbaskani da yer aldi goruntulerin basinda prokopis prokopis pavlopulos pavlopulos bakanlar ve askeri yetkililer once paskeritorenl karsilandi kalimnos adasinda goruluyor yunan heyeti daha sonra askeri botla keci adasina geciyor cumhurbaskam ve baskomutan sifatiyla adaya ayak basan pavlopulos askeri tahkimat bodrumasadece ljij lkj nnm yapilan kale bolgesine de gitti genelkurmay tia iii baskam ue birlikte isgalci yunan askerlerini mil uzakllinalfeii denetledi pavlopulos adada yaptirilan kilise emekli kurmay albay umit yalim onunde adalar valisi tuggeneral sergenta mugla keci adasimn mitlik turk ka niye plaket verdi bu durum adalarimiz ilhak rasulan icinde oldugunu soyledi yalim digi gibi yunanistanm atadigi askeri valile ada hakkinda su bilgileri verdi bod rin yonetimine terk edilmis yorumlarina ne ruma olan mesafesi mil keci adasi den oldu pavlopulos kendi basinina keci ada istanbuldaki buyukadanm iki misli sirrni yunan sinirlan icinde oldugunu iddia buyuklukte adanin her tarafinda yunan etti yunan cumhurbaskam adada turkiyenin bayragi dalgalaniyor adaya yunan as lozan antlasmasina yunanistanin sinirlarina kerleri ile birlikte top ve ucaksavar gibi ve toprak butunlugune saygi duymasini istedi agir silahlar yerlestirilmis keci adasi si lah ve muhimmat deposu haline getirile hlifspihimi iniiiiiuaaaauiiiim rek ueri karakol haline donusturulmus muli savunma bakanligi eski genel sekreteri'"
      ]
     },
     "execution_count": 162,
     "metadata": {},
     "output_type": "execute_result"
    }
   ],
   "source": [
    "sample_text3"
   ]
  },
  {
   "cell_type": "code",
   "execution_count": 149,
   "id": "721713f9-487c-445e-aaa1-b9f00cd5203e",
   "metadata": {},
   "outputs": [
    {
     "data": {
      "text/plain": [
       "'\\\\s(yahudi|yahudiler|yunan)(?!istan|stan|ya)\\\\s(\\\\w*)\\\\s?(isgali)'"
      ]
     },
     "execution_count": 149,
     "metadata": {},
     "output_type": "execute_result"
    }
   ],
   "source": [
    "sample_rule"
   ]
  },
  {
   "cell_type": "code",
   "execution_count": null,
   "id": "162b802d-f821-4b70-851d-46aea8677a99",
   "metadata": {},
   "outputs": [],
   "source": []
  }
 ],
 "metadata": {
  "kernelspec": {
   "display_name": "NLP Env",
   "language": "python",
   "name": "nlp_env"
  },
  "language_info": {
   "codemirror_mode": {
    "name": "ipython",
    "version": 3
   },
   "file_extension": ".py",
   "mimetype": "text/x-python",
   "name": "python",
   "nbconvert_exporter": "python",
   "pygments_lexer": "ipython3",
   "version": "3.8.13"
  }
 },
 "nbformat": 4,
 "nbformat_minor": 5
}
